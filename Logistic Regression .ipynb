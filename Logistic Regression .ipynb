{
 "cells": [
  {
   "cell_type": "code",
   "execution_count": 1,
   "metadata": {},
   "outputs": [],
   "source": [
    "import numpy as np\n",
    "import pandas as pd\n",
    "import matplotlib.pyplot as plt\n",
    "import seaborn as sns"
   ]
  },
  {
   "cell_type": "code",
   "execution_count": 2,
   "metadata": {},
   "outputs": [],
   "source": [
    "df = pd.read_csv('Insurance.csv')"
   ]
  },
  {
   "cell_type": "code",
   "execution_count": 3,
   "metadata": {},
   "outputs": [
    {
     "data": {
      "text/html": [
       "<div>\n",
       "<style scoped>\n",
       "    .dataframe tbody tr th:only-of-type {\n",
       "        vertical-align: middle;\n",
       "    }\n",
       "\n",
       "    .dataframe tbody tr th {\n",
       "        vertical-align: top;\n",
       "    }\n",
       "\n",
       "    .dataframe thead th {\n",
       "        text-align: right;\n",
       "    }\n",
       "</style>\n",
       "<table border=\"1\" class=\"dataframe\">\n",
       "  <thead>\n",
       "    <tr style=\"text-align: right;\">\n",
       "      <th></th>\n",
       "      <th>age</th>\n",
       "      <th>sex</th>\n",
       "      <th>bmi</th>\n",
       "      <th>children</th>\n",
       "      <th>smoker</th>\n",
       "      <th>region</th>\n",
       "      <th>charges</th>\n",
       "      <th>insuranceclaim</th>\n",
       "    </tr>\n",
       "  </thead>\n",
       "  <tbody>\n",
       "    <tr>\n",
       "      <td>0</td>\n",
       "      <td>19</td>\n",
       "      <td>0</td>\n",
       "      <td>27.900</td>\n",
       "      <td>0</td>\n",
       "      <td>1</td>\n",
       "      <td>3</td>\n",
       "      <td>16884.92400</td>\n",
       "      <td>1</td>\n",
       "    </tr>\n",
       "    <tr>\n",
       "      <td>1</td>\n",
       "      <td>18</td>\n",
       "      <td>1</td>\n",
       "      <td>33.770</td>\n",
       "      <td>1</td>\n",
       "      <td>0</td>\n",
       "      <td>2</td>\n",
       "      <td>1725.55230</td>\n",
       "      <td>1</td>\n",
       "    </tr>\n",
       "    <tr>\n",
       "      <td>2</td>\n",
       "      <td>28</td>\n",
       "      <td>1</td>\n",
       "      <td>33.000</td>\n",
       "      <td>3</td>\n",
       "      <td>0</td>\n",
       "      <td>2</td>\n",
       "      <td>4449.46200</td>\n",
       "      <td>0</td>\n",
       "    </tr>\n",
       "    <tr>\n",
       "      <td>3</td>\n",
       "      <td>33</td>\n",
       "      <td>1</td>\n",
       "      <td>22.705</td>\n",
       "      <td>0</td>\n",
       "      <td>0</td>\n",
       "      <td>1</td>\n",
       "      <td>21984.47061</td>\n",
       "      <td>0</td>\n",
       "    </tr>\n",
       "    <tr>\n",
       "      <td>4</td>\n",
       "      <td>32</td>\n",
       "      <td>1</td>\n",
       "      <td>28.880</td>\n",
       "      <td>0</td>\n",
       "      <td>0</td>\n",
       "      <td>1</td>\n",
       "      <td>3866.85520</td>\n",
       "      <td>1</td>\n",
       "    </tr>\n",
       "  </tbody>\n",
       "</table>\n",
       "</div>"
      ],
      "text/plain": [
       "   age  sex     bmi  children  smoker  region      charges  insuranceclaim\n",
       "0   19    0  27.900         0       1       3  16884.92400               1\n",
       "1   18    1  33.770         1       0       2   1725.55230               1\n",
       "2   28    1  33.000         3       0       2   4449.46200               0\n",
       "3   33    1  22.705         0       0       1  21984.47061               0\n",
       "4   32    1  28.880         0       0       1   3866.85520               1"
      ]
     },
     "execution_count": 3,
     "metadata": {},
     "output_type": "execute_result"
    }
   ],
   "source": [
    "df.head()"
   ]
  },
  {
   "cell_type": "code",
   "execution_count": 4,
   "metadata": {},
   "outputs": [
    {
     "data": {
      "text/plain": [
       "1    783\n",
       "0    555\n",
       "Name: insuranceclaim, dtype: int64"
      ]
     },
     "execution_count": 4,
     "metadata": {},
     "output_type": "execute_result"
    }
   ],
   "source": [
    "df['insuranceclaim'].value_counts()"
   ]
  },
  {
   "cell_type": "code",
   "execution_count": 5,
   "metadata": {},
   "outputs": [
    {
     "data": {
      "text/plain": [
       "age               0\n",
       "sex               0\n",
       "bmi               0\n",
       "children          0\n",
       "smoker            0\n",
       "region            0\n",
       "charges           0\n",
       "insuranceclaim    0\n",
       "dtype: int64"
      ]
     },
     "execution_count": 5,
     "metadata": {},
     "output_type": "execute_result"
    }
   ],
   "source": [
    "df.isnull().sum()"
   ]
  },
  {
   "cell_type": "code",
   "execution_count": 16,
   "metadata": {},
   "outputs": [
    {
     "data": {
      "image/png": "[encoded data removed]",
      "text/plain": [
       "<Figure size 432x288 with 1 Axes>"
      ]
     },
     "metadata": {
      "needs_background": "light"
     },
     "output_type": "display_data"
    }
   ],
   "source": [
    "sns.boxplot(data=df,y='charges',x='insuranceclaim')\n",
    "plt.show()"
   ]
  },
  {
   "cell_type": "code",
   "execution_count": 13,
   "metadata": {},
   "outputs": [
    {
     "data": {
      "text/plain": [
       "{0: Int64Index([   2,    3,    5,    7,    8,    9,   15,   17,   24,   26,\n",
       "             ...\n",
       "             1315, 1316, 1318, 1319, 1320, 1324, 1328, 1332, 1333, 1336],\n",
       "            dtype='int64', length=555),\n",
       " 1: Int64Index([   0,    1,    4,    6,   10,   11,   12,   13,   14,   16,\n",
       "             ...\n",
       "             1323, 1325, 1326, 1327, 1329, 1330, 1331, 1334, 1335, 1337],\n",
       "            dtype='int64', length=783)}"
      ]
     },
     "execution_count": 13,
     "metadata": {},
     "output_type": "execute_result"
    }
   ],
   "source": [
    "dic = df.groupby('insuranceclaim').groups\n",
    "#sns.boxplot(data=df,y='charges',x='insuranceclaim')\n",
    "dic"
   ]
  },
  {
   "cell_type": "code",
   "execution_count": 15,
   "metadata": {},
   "outputs": [
    {
     "data": {
      "image/png": "[encoded data removed]",
      "text/plain": [
       "<Figure size 432x288 with 1 Axes>"
      ]
     },
     "metadata": {
      "needs_background": "light"
     },
     "output_type": "display_data"
    }
   ],
   "source": [
    "sns.boxplot(data=df.loc[dic[0]],x='charges')\n",
    "plt.show()"
   ]
  },
  {
   "cell_type": "code",
   "execution_count": 17,
   "metadata": {},
   "outputs": [
    {
     "data": {
      "image/png": "[encoded data removed]",
      "text/plain": [
       "<Figure size 432x288 with 1 Axes>"
      ]
     },
     "metadata": {
      "needs_background": "light"
     },
     "output_type": "display_data"
    }
   ],
   "source": [
    "sns.boxplot(data=df.loc[dic[1]],x='charges')\n",
    "plt.show()"
   ]
  },
  {
   "cell_type": "code",
   "execution_count": 18,
   "metadata": {},
   "outputs": [],
   "source": [
    "corr  = df.corr()"
   ]
  },
  {
   "cell_type": "code",
   "execution_count": 21,
   "metadata": {},
   "outputs": [
    {
     "data": {
      "image/png": "[encoded data removed]",
      "text/plain": [
       "<Figure size 576x576 with 2 Axes>"
      ]
     },
     "metadata": {
      "needs_background": "light"
     },
     "output_type": "display_data"
    }
   ],
   "source": [
    "plt.figure(figsize=(8,8))\n",
    "sns.heatmap(corr,annot=True,cmap=\"viridis\")\n",
    "plt.show()"
   ]
  },
  {
   "cell_type": "code",
   "execution_count": 24,
   "metadata": {},
   "outputs": [
    {
     "data": {
      "image/png": "[encoded data removed]",
      "text/plain": [
       "<Figure size 432x288 with 1 Axes>"
      ]
     },
     "metadata": {
      "needs_background": "light"
     },
     "output_type": "display_data"
    }
   ],
   "source": [
    "sns.countplot(data=df,x= 'insuranceclaim',hue='smoker')\n",
    "plt.show()"
   ]
  },
  {
   "cell_type": "code",
   "execution_count": 27,
   "metadata": {},
   "outputs": [],
   "source": [
    "from sklearn.model_selection import train_test_split\n",
    "from sklearn.linear_model import LogisticRegression\n",
    "from sklearn.metrics import accuracy_score,recall_score,precision_score,f1_score"
   ]
  },
  {
   "cell_type": "markdown",
   "metadata": {},
   "source": [
    "# Train Test Split"
   ]
  },
  {
   "cell_type": "code",
   "execution_count": 29,
   "metadata": {},
   "outputs": [],
   "source": [
    "# X = df.drop('insuranceclaim',axis=1)\n",
    "# Y = df['insuranceclaim']"
   ]
  },
  {
   "cell_type": "code",
   "execution_count": 31,
   "metadata": {},
   "outputs": [],
   "source": [
    "X = df.iloc[:,:-1]   # all column and  minus last column\n",
    "Y = df.iloc[:,-1]    #add all rows and last column"
   ]
  },
  {
   "cell_type": "code",
   "execution_count": 64,
   "metadata": {},
   "outputs": [],
   "source": [
    "X_train,X_test,Y_train,Y_test = train_test_split(X,Y,test_size=0.3,random_state=1)"
   ]
  },
  {
   "cell_type": "markdown",
   "metadata": {},
   "source": [
    "# BAse Line Model"
   ]
  },
  {
   "cell_type": "code",
   "execution_count": 65,
   "metadata": {},
   "outputs": [],
   "source": [
    "lr = LogisticRegression(random_state=1)"
   ]
  },
  {
   "cell_type": "code",
   "execution_count": 66,
   "metadata": {},
   "outputs": [
    {
     "name": "stderr",
     "output_type": "stream",
     "text": [
      "C:\\Users\\ABHIJEET\\Anaconda3\\lib\\site-packages\\sklearn\\linear_model\\logistic.py:432: FutureWarning: Default solver will be changed to 'lbfgs' in 0.22. Specify a solver to silence this warning.\n",
      "  FutureWarning)\n"
     ]
    },
    {
     "data": {
      "text/plain": [
       "LogisticRegression(C=1.0, class_weight=None, dual=False, fit_intercept=True,\n",
       "                   intercept_scaling=1, l1_ratio=None, max_iter=100,\n",
       "                   multi_class='warn', n_jobs=None, penalty='l2',\n",
       "                   random_state=1, solver='warn', tol=0.0001, verbose=0,\n",
       "                   warm_start=False)"
      ]
     },
     "execution_count": 66,
     "metadata": {},
     "output_type": "execute_result"
    }
   ],
   "source": [
    "lr.fit(X_train,Y_train)"
   ]
  },
  {
   "cell_type": "code",
   "execution_count": 67,
   "metadata": {},
   "outputs": [],
   "source": [
    "Y_pred = lr.predict(X_test)"
   ]
  },
  {
   "cell_type": "markdown",
   "metadata": {},
   "source": [
    "# Evaluation Metrics"
   ]
  },
  {
   "cell_type": "code",
   "execution_count": 68,
   "metadata": {},
   "outputs": [
    {
     "data": {
      "text/plain": [
       "0.8034825870646766"
      ]
     },
     "execution_count": 68,
     "metadata": {},
     "output_type": "execute_result"
    }
   ],
   "source": [
    "accuracy_score(Y_test,Y_pred)"
   ]
  },
  {
   "cell_type": "code",
   "execution_count": 69,
   "metadata": {},
   "outputs": [
    {
     "data": {
      "text/plain": [
       "0.8192307692307692"
      ]
     },
     "execution_count": 69,
     "metadata": {},
     "output_type": "execute_result"
    }
   ],
   "source": [
    "precision_score(Y_test,Y_pred)"
   ]
  },
  {
   "cell_type": "code",
   "execution_count": 70,
   "metadata": {},
   "outputs": [
    {
     "data": {
      "text/plain": [
       "0.8693877551020408"
      ]
     },
     "execution_count": 70,
     "metadata": {},
     "output_type": "execute_result"
    }
   ],
   "source": [
    "recall_score(Y_test,Y_pred)"
   ]
  },
  {
   "cell_type": "code",
   "execution_count": 71,
   "metadata": {},
   "outputs": [
    {
     "data": {
      "text/plain": [
       "0.8435643564356436"
      ]
     },
     "execution_count": 71,
     "metadata": {},
     "output_type": "execute_result"
    }
   ],
   "source": [
    "f1_score(Y_test,Y_pred)"
   ]
  },
  {
   "cell_type": "code",
   "execution_count": 72,
   "metadata": {},
   "outputs": [],
   "source": [
    "# to get all evaluation matrices in one command\n",
    "from sklearn.metrics import classification_report,confusion_matrix"
   ]
  },
  {
   "cell_type": "code",
   "execution_count": 73,
   "metadata": {},
   "outputs": [
    {
     "name": "stdout",
     "output_type": "stream",
     "text": [
      "              precision    recall  f1-score   support\n",
      "\n",
      "           0       0.77      0.70      0.74       157\n",
      "           1       0.82      0.87      0.84       245\n",
      "\n",
      "    accuracy                           0.80       402\n",
      "   macro avg       0.80      0.79      0.79       402\n",
      "weighted avg       0.80      0.80      0.80       402\n",
      "\n"
     ]
    }
   ],
   "source": [
    "print(classification_report(Y_test,Y_pred))"
   ]
  },
  {
   "cell_type": "code",
   "execution_count": 74,
   "metadata": {},
   "outputs": [],
   "source": [
    "tn, fp, fn, tp =confusion_matrix(Y_test,Y_pred).ravel()"
   ]
  },
  {
   "cell_type": "code",
   "execution_count": 75,
   "metadata": {},
   "outputs": [
    {
     "name": "stdout",
     "output_type": "stream",
     "text": [
      "213 47\n",
      "32 110\n"
     ]
    }
   ],
   "source": [
    "print(tp,fp)\n",
    "print(fn,tn)"
   ]
  },
  {
   "cell_type": "code",
   "execution_count": 77,
   "metadata": {},
   "outputs": [
    {
     "data": {
      "text/plain": [
       "array([[0.16311278, 0.83688722],\n",
       "       [0.22470072, 0.77529928],\n",
       "       [0.19287756, 0.80712244],\n",
       "       [0.85415655, 0.14584345],\n",
       "       [0.62188477, 0.37811523],\n",
       "       [0.19133183, 0.80866817],\n",
       "       [0.66910355, 0.33089645],\n",
       "       [0.23193932, 0.76806068],\n",
       "       [0.27545372, 0.72454628],\n",
       "       [0.0837364 , 0.9162636 ],\n",
       "       [0.30559478, 0.69440522],\n",
       "       [0.5048162 , 0.4951838 ],\n",
       "       [0.74054617, 0.25945383],\n",
       "       [0.52984444, 0.47015556],\n",
       "       [0.18286304, 0.81713696],\n",
       "       [0.77465306, 0.22534694],\n",
       "       [0.08742963, 0.91257037],\n",
       "       [0.91596601, 0.08403399],\n",
       "       [0.12156556, 0.87843444],\n",
       "       [0.20253436, 0.79746564],\n",
       "       [0.20102215, 0.79897785],\n",
       "       [0.12013125, 0.87986875],\n",
       "       [0.26341929, 0.73658071],\n",
       "       [0.32287821, 0.67712179],\n",
       "       [0.18913769, 0.81086231],\n",
       "       [0.53205389, 0.46794611],\n",
       "       [0.91220582, 0.08779418],\n",
       "       [0.21080607, 0.78919393],\n",
       "       [0.71718447, 0.28281553],\n",
       "       [0.2889213 , 0.7110787 ],\n",
       "       [0.40632427, 0.59367573],\n",
       "       [0.68758284, 0.31241716],\n",
       "       [0.7652763 , 0.2347237 ],\n",
       "       [0.00981458, 0.99018542],\n",
       "       [0.72806895, 0.27193105],\n",
       "       [0.32469043, 0.67530957],\n",
       "       [0.00871133, 0.99128867],\n",
       "       [0.89007534, 0.10992466],\n",
       "       [0.14691835, 0.85308165],\n",
       "       [0.03710522, 0.96289478],\n",
       "       [0.697884  , 0.302116  ],\n",
       "       [0.1922284 , 0.8077716 ],\n",
       "       [0.81435462, 0.18564538],\n",
       "       [0.40261644, 0.59738356],\n",
       "       [0.82193442, 0.17806558],\n",
       "       [0.0565155 , 0.9434845 ],\n",
       "       [0.05293557, 0.94706443],\n",
       "       [0.01225261, 0.98774739],\n",
       "       [0.40009969, 0.59990031],\n",
       "       [0.96057892, 0.03942108],\n",
       "       [0.23168341, 0.76831659],\n",
       "       [0.75657795, 0.24342205],\n",
       "       [0.31411865, 0.68588135],\n",
       "       [0.92710103, 0.07289897],\n",
       "       [0.16226865, 0.83773135],\n",
       "       [0.11161845, 0.88838155],\n",
       "       [0.23130351, 0.76869649],\n",
       "       [0.18643753, 0.81356247],\n",
       "       [0.36776449, 0.63223551],\n",
       "       [0.1127179 , 0.8872821 ],\n",
       "       [0.17859871, 0.82140129],\n",
       "       [0.18629091, 0.81370909],\n",
       "       [0.16155034, 0.83844966],\n",
       "       [0.23398463, 0.76601537],\n",
       "       [0.15590575, 0.84409425],\n",
       "       [0.4667123 , 0.5332877 ],\n",
       "       [0.90948932, 0.09051068],\n",
       "       [0.34877942, 0.65122058],\n",
       "       [0.52275494, 0.47724506],\n",
       "       [0.12093231, 0.87906769],\n",
       "       [0.05233598, 0.94766402],\n",
       "       [0.0024802 , 0.9975198 ],\n",
       "       [0.23710973, 0.76289027],\n",
       "       [0.9208232 , 0.0791768 ],\n",
       "       [0.2332928 , 0.7667072 ],\n",
       "       [0.02352881, 0.97647119],\n",
       "       [0.51614767, 0.48385233],\n",
       "       [0.28343615, 0.71656385],\n",
       "       [0.31234827, 0.68765173],\n",
       "       [0.7800773 , 0.2199227 ],\n",
       "       [0.63904338, 0.36095662],\n",
       "       [0.68011111, 0.31988889],\n",
       "       [0.56013997, 0.43986003],\n",
       "       [0.26370394, 0.73629606],\n",
       "       [0.0297984 , 0.9702016 ],\n",
       "       [0.02231496, 0.97768504],\n",
       "       [0.58993283, 0.41006717],\n",
       "       [0.02707217, 0.97292783],\n",
       "       [0.67605068, 0.32394932],\n",
       "       [0.69563068, 0.30436932],\n",
       "       [0.0649388 , 0.9350612 ],\n",
       "       [0.74306405, 0.25693595],\n",
       "       [0.8827969 , 0.1172031 ],\n",
       "       [0.46391478, 0.53608522],\n",
       "       [0.31375126, 0.68624874],\n",
       "       [0.27068262, 0.72931738],\n",
       "       [0.57763149, 0.42236851],\n",
       "       [0.63780884, 0.36219116],\n",
       "       [0.15828654, 0.84171346],\n",
       "       [0.79811467, 0.20188533],\n",
       "       [0.19758163, 0.80241837],\n",
       "       [0.09823874, 0.90176126],\n",
       "       [0.77543774, 0.22456226],\n",
       "       [0.00806431, 0.99193569],\n",
       "       [0.10617355, 0.89382645],\n",
       "       [0.0567338 , 0.9432662 ],\n",
       "       [0.2908153 , 0.7091847 ],\n",
       "       [0.53438597, 0.46561403],\n",
       "       [0.33616546, 0.66383454],\n",
       "       [0.21906225, 0.78093775],\n",
       "       [0.27448267, 0.72551733],\n",
       "       [0.73483802, 0.26516198],\n",
       "       [0.2785014 , 0.7214986 ],\n",
       "       [0.79585251, 0.20414749],\n",
       "       [0.30793939, 0.69206061],\n",
       "       [0.25771534, 0.74228466],\n",
       "       [0.97610285, 0.02389715],\n",
       "       [0.27416592, 0.72583408],\n",
       "       [0.80545262, 0.19454738],\n",
       "       [0.18556131, 0.81443869],\n",
       "       [0.31602492, 0.68397508],\n",
       "       [0.94743784, 0.05256216],\n",
       "       [0.48852653, 0.51147347],\n",
       "       [0.39052316, 0.60947684],\n",
       "       [0.10247081, 0.89752919],\n",
       "       [0.88766415, 0.11233585],\n",
       "       [0.91150766, 0.08849234],\n",
       "       [0.7733429 , 0.2266571 ],\n",
       "       [0.0397201 , 0.9602799 ],\n",
       "       [0.68696836, 0.31303164],\n",
       "       [0.00520262, 0.99479738],\n",
       "       [0.63639374, 0.36360626],\n",
       "       [0.75018582, 0.24981418],\n",
       "       [0.02402938, 0.97597062],\n",
       "       [0.07836499, 0.92163501],\n",
       "       [0.34958514, 0.65041486],\n",
       "       [0.27349062, 0.72650938],\n",
       "       [0.13603129, 0.86396871],\n",
       "       [0.39435675, 0.60564325],\n",
       "       [0.14344426, 0.85655574],\n",
       "       [0.18780903, 0.81219097],\n",
       "       [0.88125971, 0.11874029],\n",
       "       [0.50484297, 0.49515703],\n",
       "       [0.164725  , 0.835275  ],\n",
       "       [0.68520579, 0.31479421],\n",
       "       [0.27581942, 0.72418058],\n",
       "       [0.48493895, 0.51506105],\n",
       "       [0.8895815 , 0.1104185 ],\n",
       "       [0.39055216, 0.60944784],\n",
       "       [0.81069909, 0.18930091],\n",
       "       [0.39525974, 0.60474026],\n",
       "       [0.72554805, 0.27445195],\n",
       "       [0.16498961, 0.83501039],\n",
       "       [0.41641288, 0.58358712],\n",
       "       [0.15807538, 0.84192462],\n",
       "       [0.3214157 , 0.6785843 ],\n",
       "       [0.44790036, 0.55209964],\n",
       "       [0.52292458, 0.47707542],\n",
       "       [0.50774813, 0.49225187],\n",
       "       [0.20161888, 0.79838112],\n",
       "       [0.25963857, 0.74036143],\n",
       "       [0.05528451, 0.94471549],\n",
       "       [0.47651908, 0.52348092],\n",
       "       [0.51340986, 0.48659014],\n",
       "       [0.86794377, 0.13205623],\n",
       "       [0.16651837, 0.83348163],\n",
       "       [0.02596178, 0.97403822],\n",
       "       [0.5420848 , 0.4579152 ],\n",
       "       [0.28607025, 0.71392975],\n",
       "       [0.24820279, 0.75179721],\n",
       "       [0.75548048, 0.24451952],\n",
       "       [0.17264499, 0.82735501],\n",
       "       [0.14796746, 0.85203254],\n",
       "       [0.09717459, 0.90282541],\n",
       "       [0.33190467, 0.66809533],\n",
       "       [0.50858112, 0.49141888],\n",
       "       [0.41918762, 0.58081238],\n",
       "       [0.86216531, 0.13783469],\n",
       "       [0.38281746, 0.61718254],\n",
       "       [0.55200264, 0.44799736],\n",
       "       [0.23035886, 0.76964114],\n",
       "       [0.30720071, 0.69279929],\n",
       "       [0.2350033 , 0.7649967 ],\n",
       "       [0.29222317, 0.70777683],\n",
       "       [0.57734248, 0.42265752],\n",
       "       [0.06422195, 0.93577805],\n",
       "       [0.24728133, 0.75271867],\n",
       "       [0.26779955, 0.73220045],\n",
       "       [0.39881274, 0.60118726],\n",
       "       [0.98780329, 0.01219671],\n",
       "       [0.70622623, 0.29377377],\n",
       "       [0.03654595, 0.96345405],\n",
       "       [0.40912473, 0.59087527],\n",
       "       [0.52431876, 0.47568124],\n",
       "       [0.84753916, 0.15246084],\n",
       "       [0.39015089, 0.60984911],\n",
       "       [0.9665391 , 0.0334609 ],\n",
       "       [0.15346403, 0.84653597],\n",
       "       [0.97549324, 0.02450676],\n",
       "       [0.53390137, 0.46609863],\n",
       "       [0.45684867, 0.54315133],\n",
       "       [0.66521499, 0.33478501],\n",
       "       [0.93620445, 0.06379555],\n",
       "       [0.328362  , 0.671638  ],\n",
       "       [0.76264215, 0.23735785],\n",
       "       [0.252287  , 0.747713  ],\n",
       "       [0.42218746, 0.57781254],\n",
       "       [0.56478818, 0.43521182],\n",
       "       [0.11816093, 0.88183907],\n",
       "       [0.26465152, 0.73534848],\n",
       "       [0.23845964, 0.76154036],\n",
       "       [0.28728298, 0.71271702],\n",
       "       [0.85069969, 0.14930031],\n",
       "       [0.68608166, 0.31391834],\n",
       "       [0.70458367, 0.29541633],\n",
       "       [0.09513286, 0.90486714],\n",
       "       [0.24653081, 0.75346919],\n",
       "       [0.23588544, 0.76411456],\n",
       "       [0.19057845, 0.80942155],\n",
       "       [0.13065439, 0.86934561],\n",
       "       [0.18915906, 0.81084094],\n",
       "       [0.15568827, 0.84431173],\n",
       "       [0.69092256, 0.30907744],\n",
       "       [0.94330665, 0.05669335],\n",
       "       [0.24463306, 0.75536694],\n",
       "       [0.34582173, 0.65417827],\n",
       "       [0.23146047, 0.76853953],\n",
       "       [0.09801776, 0.90198224],\n",
       "       [0.06059572, 0.93940428],\n",
       "       [0.15860377, 0.84139623],\n",
       "       [0.65217186, 0.34782814],\n",
       "       [0.90724347, 0.09275653],\n",
       "       [0.03258277, 0.96741723],\n",
       "       [0.94082897, 0.05917103],\n",
       "       [0.73193119, 0.26806881],\n",
       "       [0.27141501, 0.72858499],\n",
       "       [0.54209245, 0.45790755],\n",
       "       [0.21261232, 0.78738768],\n",
       "       [0.34004087, 0.65995913],\n",
       "       [0.515622  , 0.484378  ],\n",
       "       [0.25855728, 0.74144272],\n",
       "       [0.13213193, 0.86786807],\n",
       "       [0.08906932, 0.91093068],\n",
       "       [0.22258952, 0.77741048],\n",
       "       [0.09553016, 0.90446984],\n",
       "       [0.74881327, 0.25118673],\n",
       "       [0.44320961, 0.55679039],\n",
       "       [0.47955795, 0.52044205],\n",
       "       [0.15676184, 0.84323816],\n",
       "       [0.14990922, 0.85009078],\n",
       "       [0.35616   , 0.64384   ],\n",
       "       [0.52910813, 0.47089187],\n",
       "       [0.3093565 , 0.6906435 ],\n",
       "       [0.88839426, 0.11160574],\n",
       "       [0.23081214, 0.76918786],\n",
       "       [0.11560923, 0.88439077],\n",
       "       [0.00756685, 0.99243315],\n",
       "       [0.1652105 , 0.8347895 ],\n",
       "       [0.34559732, 0.65440268],\n",
       "       [0.01657807, 0.98342193],\n",
       "       [0.75483125, 0.24516875],\n",
       "       [0.5664969 , 0.4335031 ],\n",
       "       [0.44525056, 0.55474944],\n",
       "       [0.07750683, 0.92249317],\n",
       "       [0.0049076 , 0.9950924 ],\n",
       "       [0.05069415, 0.94930585],\n",
       "       [0.14164132, 0.85835868],\n",
       "       [0.26761323, 0.73238677],\n",
       "       [0.27283723, 0.72716277],\n",
       "       [0.66595269, 0.33404731],\n",
       "       [0.15632839, 0.84367161],\n",
       "       [0.29529963, 0.70470037],\n",
       "       [0.47671479, 0.52328521],\n",
       "       [0.90231386, 0.09768614],\n",
       "       [0.72558632, 0.27441368],\n",
       "       [0.01623019, 0.98376981],\n",
       "       [0.74300242, 0.25699758],\n",
       "       [0.58595204, 0.41404796],\n",
       "       [0.05371766, 0.94628234],\n",
       "       [0.61527107, 0.38472893],\n",
       "       [0.27184405, 0.72815595],\n",
       "       [0.66720971, 0.33279029],\n",
       "       [0.77915126, 0.22084874],\n",
       "       [0.42310177, 0.57689823],\n",
       "       [0.90070805, 0.09929195],\n",
       "       [0.73841239, 0.26158761],\n",
       "       [0.63879357, 0.36120643],\n",
       "       [0.06633282, 0.93366718],\n",
       "       [0.23539217, 0.76460783],\n",
       "       [0.52041121, 0.47958879],\n",
       "       [0.24516536, 0.75483464],\n",
       "       [0.2255764 , 0.7744236 ],\n",
       "       [0.13900382, 0.86099618],\n",
       "       [0.26246043, 0.73753957],\n",
       "       [0.15509367, 0.84490633],\n",
       "       [0.07476918, 0.92523082],\n",
       "       [0.19316955, 0.80683045],\n",
       "       [0.78350046, 0.21649954],\n",
       "       [0.28539671, 0.71460329],\n",
       "       [0.53971096, 0.46028904],\n",
       "       [0.5526325 , 0.4473675 ],\n",
       "       [0.95019538, 0.04980462],\n",
       "       [0.20048294, 0.79951706],\n",
       "       [0.4767888 , 0.5232112 ],\n",
       "       [0.69507403, 0.30492597],\n",
       "       [0.17861241, 0.82138759],\n",
       "       [0.28522311, 0.71477689],\n",
       "       [0.77997582, 0.22002418],\n",
       "       [0.22899997, 0.77100003],\n",
       "       [0.87262203, 0.12737797],\n",
       "       [0.65127411, 0.34872589],\n",
       "       [0.22488766, 0.77511234],\n",
       "       [0.19069989, 0.80930011],\n",
       "       [0.1368421 , 0.8631579 ],\n",
       "       [0.27007201, 0.72992799],\n",
       "       [0.20037325, 0.79962675],\n",
       "       [0.36406361, 0.63593639],\n",
       "       [0.46554436, 0.53445564],\n",
       "       [0.21578511, 0.78421489],\n",
       "       [0.92333211, 0.07666789],\n",
       "       [0.12333165, 0.87666835],\n",
       "       [0.64502674, 0.35497326],\n",
       "       [0.49225283, 0.50774717],\n",
       "       [0.43870624, 0.56129376],\n",
       "       [0.31339214, 0.68660786],\n",
       "       [0.52951463, 0.47048537],\n",
       "       [0.90667371, 0.09332629],\n",
       "       [0.82313185, 0.17686815],\n",
       "       [0.81470639, 0.18529361],\n",
       "       [0.07279363, 0.92720637],\n",
       "       [0.41030474, 0.58969526],\n",
       "       [0.17549478, 0.82450522],\n",
       "       [0.07247551, 0.92752449],\n",
       "       [0.2286037 , 0.7713963 ],\n",
       "       [0.2321668 , 0.7678332 ],\n",
       "       [0.2997676 , 0.7002324 ],\n",
       "       [0.76536445, 0.23463555],\n",
       "       [0.15773557, 0.84226443],\n",
       "       [0.87523351, 0.12476649],\n",
       "       [0.26097998, 0.73902002],\n",
       "       [0.00795848, 0.99204152],\n",
       "       [0.18137299, 0.81862701],\n",
       "       [0.02482155, 0.97517845],\n",
       "       [0.82810959, 0.17189041],\n",
       "       [0.75873146, 0.24126854],\n",
       "       [0.08296283, 0.91703717],\n",
       "       [0.53138546, 0.46861454],\n",
       "       [0.50396306, 0.49603694],\n",
       "       [0.59041561, 0.40958439],\n",
       "       [0.17363108, 0.82636892],\n",
       "       [0.41042346, 0.58957654],\n",
       "       [0.10715319, 0.89284681],\n",
       "       [0.82121865, 0.17878135],\n",
       "       [0.00235677, 0.99764323],\n",
       "       [0.19604017, 0.80395983],\n",
       "       [0.96346138, 0.03653862],\n",
       "       [0.22947327, 0.77052673],\n",
       "       [0.05737387, 0.94262613],\n",
       "       [0.5659737 , 0.4340263 ],\n",
       "       [0.26390542, 0.73609458],\n",
       "       [0.46516772, 0.53483228],\n",
       "       [0.81315175, 0.18684825],\n",
       "       [0.44318839, 0.55681161],\n",
       "       [0.75801376, 0.24198624],\n",
       "       [0.44553282, 0.55446718],\n",
       "       [0.73005472, 0.26994528],\n",
       "       [0.00619655, 0.99380345],\n",
       "       [0.5589729 , 0.4410271 ],\n",
       "       [0.81515627, 0.18484373],\n",
       "       [0.11254361, 0.88745639],\n",
       "       [0.07620066, 0.92379934],\n",
       "       [0.14400729, 0.85599271],\n",
       "       [0.22576649, 0.77423351],\n",
       "       [0.06763432, 0.93236568],\n",
       "       [0.9472966 , 0.0527034 ],\n",
       "       [0.88787202, 0.11212798],\n",
       "       [0.70829326, 0.29170674],\n",
       "       [0.19559843, 0.80440157],\n",
       "       [0.76999073, 0.23000927],\n",
       "       [0.22615362, 0.77384638],\n",
       "       [0.70032852, 0.29967148],\n",
       "       [0.1021615 , 0.8978385 ],\n",
       "       [0.01101701, 0.98898299],\n",
       "       [0.4593486 , 0.5406514 ],\n",
       "       [0.09055514, 0.90944486],\n",
       "       [0.69433196, 0.30566804],\n",
       "       [0.12625224, 0.87374776],\n",
       "       [0.27277176, 0.72722824],\n",
       "       [0.33759955, 0.66240045],\n",
       "       [0.6566691 , 0.3433309 ],\n",
       "       [0.00955711, 0.99044289],\n",
       "       [0.24868094, 0.75131906],\n",
       "       [0.43490042, 0.56509958],\n",
       "       [0.02388733, 0.97611267],\n",
       "       [0.00797458, 0.99202542],\n",
       "       [0.21505363, 0.78494637],\n",
       "       [0.78312222, 0.21687778],\n",
       "       [0.12749777, 0.87250223],\n",
       "       [0.19099896, 0.80900104],\n",
       "       [0.20810776, 0.79189224],\n",
       "       [0.07913083, 0.92086917],\n",
       "       [0.19996599, 0.80003401]])"
      ]
     },
     "execution_count": 77,
     "metadata": {},
     "output_type": "execute_result"
    }
   ],
   "source": [
    "lr.predict_proba(X_test)"
   ]
  },
  {
   "cell_type": "markdown",
   "metadata": {},
   "source": [
    "# Sigmoid Function"
   ]
  },
  {
   "cell_type": "code",
   "execution_count": 78,
   "metadata": {},
   "outputs": [],
   "source": [
    "def sigmoid(x):\n",
    "    return 1/(1+np.exp(-x))"
   ]
  },
  {
   "cell_type": "code",
   "execution_count": 79,
   "metadata": {},
   "outputs": [],
   "source": [
    "x = np.arange(-10,11)\n",
    "\n",
    "y = sigmoid(x)"
   ]
  },
  {
   "cell_type": "code",
   "execution_count": 80,
   "metadata": {},
   "outputs": [
    {
     "data": {
      "image/png": "[encoded data removed]",
      "text/plain": [
       "<Figure size 432x288 with 1 Axes>"
      ]
     },
     "metadata": {
      "needs_background": "light"
     },
     "output_type": "display_data"
    }
   ],
   "source": [
    "plt.plot(x,y)\n",
    "plt.show()"
   ]
  },
  {
   "cell_type": "code",
   "execution_count": null,
   "metadata": {},
   "outputs": [],
   "source": []
  }
 ],
 "metadata": {
  "kernelspec": {
   "display_name": "Python 3",
   "language": "python",
   "name": "python3"
  },
  "language_info": {
   "codemirror_mode": {
    "name": "ipython",
    "version": 3
   },
   "file_extension": ".py",
   "mimetype": "text/x-python",
   "name": "python",
   "nbconvert_exporter": "python",
   "pygments_lexer": "ipython3",
   "version": "3.7.4"
  }
 },
 "nbformat": 4,
 "nbformat_minor": 2
}
