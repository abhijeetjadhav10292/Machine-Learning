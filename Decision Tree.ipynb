{
 "cells": [
  {
   "cell_type": "code",
   "execution_count": 1,
   "metadata": {},
   "outputs": [],
   "source": [
    "import numpy as np\n",
    "import pandas as pd\n",
    "import matplotlib.pyplot as plt\n",
    "import seaborn as sns\n",
    "\n",
    "from sklearn.linear_model import LogisticRegression\n",
    "from sklearn.tree import DecisionTreeClassifier\n",
    "\n",
    "from sklearn import tree\n",
    "\n",
    "from sklearn.model_selection import train_test_split\n",
    "from sklearn.metrics import classification_report\n",
    "\n",
    "\n",
    "import warnings\n",
    "warnings.filterwarnings('ignore')"
   ]
  },
  {
   "cell_type": "code",
   "execution_count": 2,
   "metadata": {},
   "outputs": [],
   "source": [
    "df = pd.read_csv(\"insurance.csv\")"
   ]
  },
  {
   "cell_type": "code",
   "execution_count": 3,
   "metadata": {},
   "outputs": [
    {
     "data": {
      "text/html": [
       "<div>\n",
       "<style scoped>\n",
       "    .dataframe tbody tr th:only-of-type {\n",
       "        vertical-align: middle;\n",
       "    }\n",
       "\n",
       "    .dataframe tbody tr th {\n",
       "        vertical-align: top;\n",
       "    }\n",
       "\n",
       "    .dataframe thead th {\n",
       "        text-align: right;\n",
       "    }\n",
       "</style>\n",
       "<table border=\"1\" class=\"dataframe\">\n",
       "  <thead>\n",
       "    <tr style=\"text-align: right;\">\n",
       "      <th></th>\n",
       "      <th>age</th>\n",
       "      <th>sex</th>\n",
       "      <th>bmi</th>\n",
       "      <th>children</th>\n",
       "      <th>smoker</th>\n",
       "      <th>region</th>\n",
       "      <th>charges</th>\n",
       "      <th>insuranceclaim</th>\n",
       "    </tr>\n",
       "  </thead>\n",
       "  <tbody>\n",
       "    <tr>\n",
       "      <td>0</td>\n",
       "      <td>19</td>\n",
       "      <td>0</td>\n",
       "      <td>27.900</td>\n",
       "      <td>0</td>\n",
       "      <td>1</td>\n",
       "      <td>3</td>\n",
       "      <td>16884.92400</td>\n",
       "      <td>1</td>\n",
       "    </tr>\n",
       "    <tr>\n",
       "      <td>1</td>\n",
       "      <td>18</td>\n",
       "      <td>1</td>\n",
       "      <td>33.770</td>\n",
       "      <td>1</td>\n",
       "      <td>0</td>\n",
       "      <td>2</td>\n",
       "      <td>1725.55230</td>\n",
       "      <td>1</td>\n",
       "    </tr>\n",
       "    <tr>\n",
       "      <td>2</td>\n",
       "      <td>28</td>\n",
       "      <td>1</td>\n",
       "      <td>33.000</td>\n",
       "      <td>3</td>\n",
       "      <td>0</td>\n",
       "      <td>2</td>\n",
       "      <td>4449.46200</td>\n",
       "      <td>0</td>\n",
       "    </tr>\n",
       "    <tr>\n",
       "      <td>3</td>\n",
       "      <td>33</td>\n",
       "      <td>1</td>\n",
       "      <td>22.705</td>\n",
       "      <td>0</td>\n",
       "      <td>0</td>\n",
       "      <td>1</td>\n",
       "      <td>21984.47061</td>\n",
       "      <td>0</td>\n",
       "    </tr>\n",
       "    <tr>\n",
       "      <td>4</td>\n",
       "      <td>32</td>\n",
       "      <td>1</td>\n",
       "      <td>28.880</td>\n",
       "      <td>0</td>\n",
       "      <td>0</td>\n",
       "      <td>1</td>\n",
       "      <td>3866.85520</td>\n",
       "      <td>1</td>\n",
       "    </tr>\n",
       "  </tbody>\n",
       "</table>\n",
       "</div>"
      ],
      "text/plain": [
       "   age  sex     bmi  children  smoker  region      charges  insuranceclaim\n",
       "0   19    0  27.900         0       1       3  16884.92400               1\n",
       "1   18    1  33.770         1       0       2   1725.55230               1\n",
       "2   28    1  33.000         3       0       2   4449.46200               0\n",
       "3   33    1  22.705         0       0       1  21984.47061               0\n",
       "4   32    1  28.880         0       0       1   3866.85520               1"
      ]
     },
     "execution_count": 3,
     "metadata": {},
     "output_type": "execute_result"
    }
   ],
   "source": [
    "df.head()"
   ]
  },
  {
   "cell_type": "code",
   "execution_count": 4,
   "metadata": {},
   "outputs": [
    {
     "data": {
      "text/plain": [
       "age               0\n",
       "sex               0\n",
       "bmi               0\n",
       "children          0\n",
       "smoker            0\n",
       "region            0\n",
       "charges           0\n",
       "insuranceclaim    0\n",
       "dtype: int64"
      ]
     },
     "execution_count": 4,
     "metadata": {},
     "output_type": "execute_result"
    }
   ],
   "source": [
    "df.isnull().sum()\n"
   ]
  },
  {
   "cell_type": "code",
   "execution_count": 5,
   "metadata": {},
   "outputs": [
    {
     "data": {
      "image/png": "[encoded data removed]",
      "text/plain": [
       "<Figure size 504x504 with 1 Axes>"
      ]
     },
     "metadata": {},
     "output_type": "display_data"
    }
   ],
   "source": [
    "plt.figure(figsize=(7,7))\n",
    "df[\"insuranceclaim\"].value_counts().plot.pie(autopct=\"%1.1f%%\")\n",
    "plt.show()"
   ]
  },
  {
   "cell_type": "code",
   "execution_count": 6,
   "metadata": {},
   "outputs": [
    {
     "data": {
      "image/png": "[encoded data removed]",
      "text/plain": [
       "<Figure size 504x504 with 1 Axes>"
      ]
     },
     "metadata": {
      "needs_background": "light"
     },
     "output_type": "display_data"
    }
   ],
   "source": [
    "\n",
    "plt.figure(figsize=(7,7))\n",
    "sns.countplot(data=df,x=\"insuranceclaim\",hue='sex')\n",
    "plt.show()"
   ]
  },
  {
   "cell_type": "code",
   "execution_count": 7,
   "metadata": {},
   "outputs": [
    {
     "data": {
      "image/png": "[encoded data removed]",
      "text/plain": [
       "<Figure size 504x504 with 1 Axes>"
      ]
     },
     "metadata": {
      "needs_background": "light"
     },
     "output_type": "display_data"
    }
   ],
   "source": [
    "\n",
    "plt.figure(figsize=(7,7))\n",
    "sns.countplot(data=df,x=\"insuranceclaim\",hue=\"smoker\")\n",
    "plt.show()"
   ]
  },
  {
   "cell_type": "code",
   "execution_count": 8,
   "metadata": {},
   "outputs": [
    {
     "data": {
      "image/png": "[encoded data removed]",
      "text/plain": [
       "<Figure size 504x504 with 1 Axes>"
      ]
     },
     "metadata": {
      "needs_background": "light"
     },
     "output_type": "display_data"
    }
   ],
   "source": [
    "plt.figure(figsize=(7,7))\n",
    "sns.countplot(data=df,x=\"insuranceclaim\",hue=\"children\")\n",
    "plt.show()"
   ]
  },
  {
   "cell_type": "code",
   "execution_count": 9,
   "metadata": {},
   "outputs": [
    {
     "data": {
      "image/png": "[encoded data removed]",
      "text/plain": [
       "<Figure size 504x504 with 1 Axes>"
      ]
     },
     "metadata": {
      "needs_background": "light"
     },
     "output_type": "display_data"
    }
   ],
   "source": [
    "plt.figure(figsize=(7,7))\n",
    "sns.countplot(data=df,x=\"insuranceclaim\",hue=\"region\")\n",
    "plt.show()"
   ]
  },
  {
   "cell_type": "code",
   "execution_count": 10,
   "metadata": {},
   "outputs": [
    {
     "data": {
      "image/png": "[encoded data removed]",
      "text/plain": [
       "<Figure size 504x504 with 1 Axes>"
      ]
     },
     "metadata": {
      "needs_background": "light"
     },
     "output_type": "display_data"
    }
   ],
   "source": [
    "plt.figure(figsize=(7,7))\n",
    "sns.scatterplot(data=df,x=\"bmi\",y=\"insuranceclaim\")\n",
    "plt.show()"
   ]
  },
  {
   "cell_type": "code",
   "execution_count": 11,
   "metadata": {},
   "outputs": [
    {
     "data": {
      "image/png": "[encoded data removed]",
      "text/plain": [
       "<Figure size 504x504 with 1 Axes>"
      ]
     },
     "metadata": {
      "needs_background": "light"
     },
     "output_type": "display_data"
    }
   ],
   "source": [
    "plt.figure(figsize=(7,7))\n",
    "sns.scatterplot(data=df,x=\"charges\",y=\"insuranceclaim\")\n",
    "plt.show()"
   ]
  },
  {
   "cell_type": "code",
   "execution_count": 12,
   "metadata": {},
   "outputs": [
    {
     "data": {
      "image/png": "[encoded data removed]",
      "text/plain": [
       "<Figure size 432x432 with 1 Axes>"
      ]
     },
     "metadata": {
      "needs_background": "light"
     },
     "output_type": "display_data"
    },
    {
     "data": {
      "image/png": "[encoded data removed]",
      "text/plain": [
       "<Figure size 432x432 with 1 Axes>"
      ]
     },
     "metadata": {
      "needs_background": "light"
     },
     "output_type": "display_data"
    },
    {
     "data": {
      "image/png": "[encoded data removed]",
      "text/plain": [
       "<Figure size 432x432 with 1 Axes>"
      ]
     },
     "metadata": {
      "needs_background": "light"
     },
     "output_type": "display_data"
    }
   ],
   "source": [
    "cols = [\"age\",\"bmi\",\"charges\"]\n",
    "\n",
    "for col in cols:\n",
    "    plt.figure(figsize=(6,6))\n",
    "    sns.distplot(df[col])\n",
    "    plt.show()"
   ]
  },
  {
   "cell_type": "code",
   "execution_count": 13,
   "metadata": {},
   "outputs": [],
   "source": [
    "def create_model(model,X,y):\n",
    "    X_train, X_test, y_train, y_test = train_test_split(X,y,test_size=0.3,random_state=1)\n",
    "    model.fit(X_train,y_train)\n",
    "    y_pred = model.predict(X_test)\n",
    "    print(classification_report(y_test,y_pred))\n",
    "    return model"
   ]
  },
  {
   "cell_type": "code",
   "execution_count": 14,
   "metadata": {},
   "outputs": [],
   "source": [
    "X = df.iloc[:,:-1]\n",
    "y = df.iloc[:,-1]"
   ]
  },
  {
   "cell_type": "code",
   "execution_count": 15,
   "metadata": {},
   "outputs": [],
   "source": [
    "lr = LogisticRegression()"
   ]
  },
  {
   "cell_type": "code",
   "execution_count": 16,
   "metadata": {},
   "outputs": [
    {
     "name": "stdout",
     "output_type": "stream",
     "text": [
      "              precision    recall  f1-score   support\n",
      "\n",
      "           0       0.77      0.70      0.74       157\n",
      "           1       0.82      0.87      0.84       245\n",
      "\n",
      "    accuracy                           0.80       402\n",
      "   macro avg       0.80      0.79      0.79       402\n",
      "weighted avg       0.80      0.80      0.80       402\n",
      "\n"
     ]
    }
   ],
   "source": [
    "lr = create_model(lr,X,y)\n"
   ]
  },
  {
   "cell_type": "code",
   "execution_count": 17,
   "metadata": {},
   "outputs": [],
   "source": [
    "dt = DecisionTreeClassifier()\n"
   ]
  },
  {
   "cell_type": "code",
   "execution_count": 18,
   "metadata": {},
   "outputs": [
    {
     "name": "stdout",
     "output_type": "stream",
     "text": [
      "              precision    recall  f1-score   support\n",
      "\n",
      "           0       0.98      0.98      0.98       157\n",
      "           1       0.99      0.99      0.99       245\n",
      "\n",
      "    accuracy                           0.99       402\n",
      "   macro avg       0.98      0.98      0.98       402\n",
      "weighted avg       0.99      0.99      0.99       402\n",
      "\n"
     ]
    }
   ],
   "source": [
    "dt = create_model(dt,X,y)\n"
   ]
  },
  {
   "cell_type": "code",
   "execution_count": 19,
   "metadata": {},
   "outputs": [
    {
     "data": {
      "text/plain": [
       "array([0.0701922 , 0.        , 0.42187374, 0.3335719 , 0.16581384,\n",
       "       0.        , 0.00854832])"
      ]
     },
     "execution_count": 19,
     "metadata": {},
     "output_type": "execute_result"
    }
   ],
   "source": [
    "dt.feature_importances_\n"
   ]
  },
  {
   "cell_type": "markdown",
   "metadata": {},
   "source": [
    "# Decision Tree with Max depth"
   ]
  },
  {
   "cell_type": "code",
   "execution_count": 20,
   "metadata": {},
   "outputs": [],
   "source": [
    "dt2 = DecisionTreeClassifier(max_depth=5)"
   ]
  },
  {
   "cell_type": "code",
   "execution_count": 21,
   "metadata": {},
   "outputs": [
    {
     "name": "stdout",
     "output_type": "stream",
     "text": [
      "              precision    recall  f1-score   support\n",
      "\n",
      "           0       0.85      0.94      0.89       157\n",
      "           1       0.96      0.89      0.92       245\n",
      "\n",
      "    accuracy                           0.91       402\n",
      "   macro avg       0.90      0.92      0.91       402\n",
      "weighted avg       0.91      0.91      0.91       402\n",
      "\n"
     ]
    }
   ],
   "source": [
    "dt2 = create_model(dt2,X,y)\n"
   ]
  },
  {
   "cell_type": "code",
   "execution_count": 22,
   "metadata": {},
   "outputs": [
    {
     "data": {
      "text/plain": [
       "array([0.06088956, 0.        , 0.36385072, 0.36645051, 0.19857208,\n",
       "       0.        , 0.01023713])"
      ]
     },
     "execution_count": 22,
     "metadata": {},
     "output_type": "execute_result"
    }
   ],
   "source": [
    "dt2.feature_importances_\n"
   ]
  },
  {
   "cell_type": "markdown",
   "metadata": {},
   "source": [
    "# decision Tree with min sample leaf"
   ]
  },
  {
   "cell_type": "code",
   "execution_count": 23,
   "metadata": {},
   "outputs": [],
   "source": [
    "dt3 = DecisionTreeClassifier(min_samples_leaf=90)\n"
   ]
  },
  {
   "cell_type": "code",
   "execution_count": 24,
   "metadata": {},
   "outputs": [
    {
     "name": "stdout",
     "output_type": "stream",
     "text": [
      "              precision    recall  f1-score   support\n",
      "\n",
      "           0       0.77      0.75      0.76       157\n",
      "           1       0.84      0.86      0.85       245\n",
      "\n",
      "    accuracy                           0.82       402\n",
      "   macro avg       0.81      0.80      0.81       402\n",
      "weighted avg       0.81      0.82      0.82       402\n",
      "\n"
     ]
    }
   ],
   "source": [
    "dt3 = create_model(dt3,X,y)\n"
   ]
  },
  {
   "cell_type": "code",
   "execution_count": 25,
   "metadata": {},
   "outputs": [
    {
     "data": {
      "text/plain": [
       "array([0.        , 0.        , 0.34502725, 0.4225545 , 0.        ,\n",
       "       0.        , 0.23241826])"
      ]
     },
     "execution_count": 25,
     "metadata": {},
     "output_type": "execute_result"
    }
   ],
   "source": [
    "dt3.feature_importances_\n"
   ]
  },
  {
   "cell_type": "code",
   "execution_count": 27,
   "metadata": {},
   "outputs": [],
   "source": [
    "df = pd.read_csv('bank.csv')"
   ]
  },
  {
   "cell_type": "code",
   "execution_count": 28,
   "metadata": {},
   "outputs": [
    {
     "data": {
      "text/html": [
       "<div>\n",
       "<style scoped>\n",
       "    .dataframe tbody tr th:only-of-type {\n",
       "        vertical-align: middle;\n",
       "    }\n",
       "\n",
       "    .dataframe tbody tr th {\n",
       "        vertical-align: top;\n",
       "    }\n",
       "\n",
       "    .dataframe thead th {\n",
       "        text-align: right;\n",
       "    }\n",
       "</style>\n",
       "<table border=\"1\" class=\"dataframe\">\n",
       "  <thead>\n",
       "    <tr style=\"text-align: right;\">\n",
       "      <th></th>\n",
       "      <th>age</th>\n",
       "      <th>job</th>\n",
       "      <th>marital</th>\n",
       "      <th>education</th>\n",
       "      <th>default</th>\n",
       "      <th>balance</th>\n",
       "      <th>housing</th>\n",
       "      <th>loan</th>\n",
       "      <th>contact</th>\n",
       "      <th>day</th>\n",
       "      <th>month</th>\n",
       "      <th>duration</th>\n",
       "      <th>campaign</th>\n",
       "      <th>pdays</th>\n",
       "      <th>previous</th>\n",
       "      <th>poutcome</th>\n",
       "      <th>deposit</th>\n",
       "    </tr>\n",
       "  </thead>\n",
       "  <tbody>\n",
       "    <tr>\n",
       "      <td>0</td>\n",
       "      <td>59</td>\n",
       "      <td>0</td>\n",
       "      <td>1</td>\n",
       "      <td>1</td>\n",
       "      <td>0</td>\n",
       "      <td>2343</td>\n",
       "      <td>1</td>\n",
       "      <td>0</td>\n",
       "      <td>2</td>\n",
       "      <td>5</td>\n",
       "      <td>8</td>\n",
       "      <td>1042</td>\n",
       "      <td>1</td>\n",
       "      <td>-1</td>\n",
       "      <td>0</td>\n",
       "      <td>3</td>\n",
       "      <td>1</td>\n",
       "    </tr>\n",
       "    <tr>\n",
       "      <td>1</td>\n",
       "      <td>56</td>\n",
       "      <td>0</td>\n",
       "      <td>1</td>\n",
       "      <td>1</td>\n",
       "      <td>0</td>\n",
       "      <td>45</td>\n",
       "      <td>0</td>\n",
       "      <td>0</td>\n",
       "      <td>2</td>\n",
       "      <td>5</td>\n",
       "      <td>8</td>\n",
       "      <td>1467</td>\n",
       "      <td>1</td>\n",
       "      <td>-1</td>\n",
       "      <td>0</td>\n",
       "      <td>3</td>\n",
       "      <td>1</td>\n",
       "    </tr>\n",
       "    <tr>\n",
       "      <td>2</td>\n",
       "      <td>41</td>\n",
       "      <td>9</td>\n",
       "      <td>1</td>\n",
       "      <td>1</td>\n",
       "      <td>0</td>\n",
       "      <td>1270</td>\n",
       "      <td>1</td>\n",
       "      <td>0</td>\n",
       "      <td>2</td>\n",
       "      <td>5</td>\n",
       "      <td>8</td>\n",
       "      <td>1389</td>\n",
       "      <td>1</td>\n",
       "      <td>-1</td>\n",
       "      <td>0</td>\n",
       "      <td>3</td>\n",
       "      <td>1</td>\n",
       "    </tr>\n",
       "    <tr>\n",
       "      <td>3</td>\n",
       "      <td>55</td>\n",
       "      <td>7</td>\n",
       "      <td>1</td>\n",
       "      <td>1</td>\n",
       "      <td>0</td>\n",
       "      <td>2476</td>\n",
       "      <td>1</td>\n",
       "      <td>0</td>\n",
       "      <td>2</td>\n",
       "      <td>5</td>\n",
       "      <td>8</td>\n",
       "      <td>579</td>\n",
       "      <td>1</td>\n",
       "      <td>-1</td>\n",
       "      <td>0</td>\n",
       "      <td>3</td>\n",
       "      <td>1</td>\n",
       "    </tr>\n",
       "    <tr>\n",
       "      <td>4</td>\n",
       "      <td>54</td>\n",
       "      <td>0</td>\n",
       "      <td>1</td>\n",
       "      <td>2</td>\n",
       "      <td>0</td>\n",
       "      <td>184</td>\n",
       "      <td>0</td>\n",
       "      <td>0</td>\n",
       "      <td>2</td>\n",
       "      <td>5</td>\n",
       "      <td>8</td>\n",
       "      <td>673</td>\n",
       "      <td>2</td>\n",
       "      <td>-1</td>\n",
       "      <td>0</td>\n",
       "      <td>3</td>\n",
       "      <td>1</td>\n",
       "    </tr>\n",
       "  </tbody>\n",
       "</table>\n",
       "</div>"
      ],
      "text/plain": [
       "   age  job  marital  education  default  balance  housing  loan  contact  \\\n",
       "0   59    0        1          1        0     2343        1     0        2   \n",
       "1   56    0        1          1        0       45        0     0        2   \n",
       "2   41    9        1          1        0     1270        1     0        2   \n",
       "3   55    7        1          1        0     2476        1     0        2   \n",
       "4   54    0        1          2        0      184        0     0        2   \n",
       "\n",
       "   day  month  duration  campaign  pdays  previous  poutcome  deposit  \n",
       "0    5      8      1042         1     -1         0         3        1  \n",
       "1    5      8      1467         1     -1         0         3        1  \n",
       "2    5      8      1389         1     -1         0         3        1  \n",
       "3    5      8       579         1     -1         0         3        1  \n",
       "4    5      8       673         2     -1         0         3        1  "
      ]
     },
     "execution_count": 28,
     "metadata": {},
     "output_type": "execute_result"
    }
   ],
   "source": [
    "df.head()"
   ]
  },
  {
   "cell_type": "code",
   "execution_count": 30,
   "metadata": {},
   "outputs": [],
   "source": [
    "X = df.iloc[:,:-1]\n",
    "Y = df.iloc[:,-1]"
   ]
  },
  {
   "cell_type": "code",
   "execution_count": 31,
   "metadata": {},
   "outputs": [
    {
     "data": {
      "text/plain": [
       "0        1\n",
       "1        1\n",
       "2        1\n",
       "3        1\n",
       "4        1\n",
       "        ..\n",
       "11157    0\n",
       "11158    0\n",
       "11159    0\n",
       "11160    0\n",
       "11161    0\n",
       "Name: deposit, Length: 11162, dtype: int64"
      ]
     },
     "execution_count": 31,
     "metadata": {},
     "output_type": "execute_result"
    }
   ],
   "source": []
  },
  {
   "cell_type": "code",
   "execution_count": 34,
   "metadata": {},
   "outputs": [
    {
     "data": {
      "image/png": "[encoded data removed]",
      "text/plain": [
       "<Figure size 432x432 with 1 Axes>"
      ]
     },
     "metadata": {
      "needs_background": "light"
     },
     "output_type": "display_data"
    },
    {
     "data": {
      "image/png": "[encoded data removed]",
      "text/plain": [
       "<Figure size 432x432 with 1 Axes>"
      ]
     },
     "metadata": {
      "needs_background": "light"
     },
     "output_type": "display_data"
    },
    {
     "data": {
      "image/png": "[encoded data removed]",
      "text/plain": [
       "<Figure size 432x432 with 1 Axes>"
      ]
     },
     "metadata": {
      "needs_background": "light"
     },
     "output_type": "display_data"
    }
   ],
   "source": [
    "cols = [\"age\",\"balance\",\"duration\"]\n",
    "\n",
    "for col in cols:\n",
    "    plt.figure(figsize=(6,6))\n",
    "    sns.distplot(df[col])\n",
    "    plt.show()"
   ]
  },
  {
   "cell_type": "code",
   "execution_count": 35,
   "metadata": {},
   "outputs": [
    {
     "data": {
      "image/png": "[encoded data removed]",
      "text/plain": [
       "<Figure size 504x504 with 1 Axes>"
      ]
     },
     "metadata": {
      "needs_background": "light"
     },
     "output_type": "display_data"
    }
   ],
   "source": [
    "plt.figure(figsize=(7,7))\n",
    "sns.countplot(data=df,x=\"deposit\",hue=\"loan\")\n",
    "plt.show()"
   ]
  },
  {
   "cell_type": "code",
   "execution_count": 36,
   "metadata": {},
   "outputs": [
    {
     "data": {
      "image/png": "[encoded data removed]",
      "text/plain": [
       "<Figure size 504x504 with 1 Axes>"
      ]
     },
     "metadata": {
      "needs_background": "light"
     },
     "output_type": "display_data"
    }
   ],
   "source": [
    "plt.figure(figsize=(7,7))\n",
    "sns.countplot(data=df,x=\"deposit\",hue=\"marital\")\n",
    "plt.show()"
   ]
  },
  {
   "cell_type": "code",
   "execution_count": null,
   "metadata": {},
   "outputs": [],
   "source": [
    "sns.scatterplot(df,y='deposit',x='duration')\n",
    "plt.show()"
   ]
  },
  {
   "cell_type": "code",
   "execution_count": 44,
   "metadata": {},
   "outputs": [],
   "source": [
    "X_train,X_test,Y_train,Y_test = train_test_split(X,Y,test_size=.3,random_state=1)"
   ]
  },
  {
   "cell_type": "code",
   "execution_count": 45,
   "metadata": {},
   "outputs": [],
   "source": [
    "dt = DecisionTreeClassifier()"
   ]
  },
  {
   "cell_type": "code",
   "execution_count": 46,
   "metadata": {},
   "outputs": [
    {
     "data": {
      "text/plain": [
       "DecisionTreeClassifier(class_weight=None, criterion='gini', max_depth=None,\n",
       "                       max_features=None, max_leaf_nodes=None,\n",
       "                       min_impurity_decrease=0.0, min_impurity_split=None,\n",
       "                       min_samples_leaf=1, min_samples_split=2,\n",
       "                       min_weight_fraction_leaf=0.0, presort=False,\n",
       "                       random_state=None, splitter='best')"
      ]
     },
     "execution_count": 46,
     "metadata": {},
     "output_type": "execute_result"
    }
   ],
   "source": [
    "dt.fit(X_train,Y_train)"
   ]
  },
  {
   "cell_type": "code",
   "execution_count": 49,
   "metadata": {},
   "outputs": [
    {
     "data": {
      "text/plain": [
       "1.0"
      ]
     },
     "execution_count": 49,
     "metadata": {},
     "output_type": "execute_result"
    }
   ],
   "source": [
    "dt.score(X_train,Y_train)"
   ]
  },
  {
   "cell_type": "code",
   "execution_count": 50,
   "metadata": {},
   "outputs": [],
   "source": [
    "Y_pred = dt.predict(X_test)"
   ]
  },
  {
   "cell_type": "code",
   "execution_count": 51,
   "metadata": {},
   "outputs": [
    {
     "name": "stdout",
     "output_type": "stream",
     "text": [
      "              precision    recall  f1-score   support\n",
      "\n",
      "           0       0.80      0.81      0.80      1760\n",
      "           1       0.78      0.77      0.78      1589\n",
      "\n",
      "    accuracy                           0.79      3349\n",
      "   macro avg       0.79      0.79      0.79      3349\n",
      "weighted avg       0.79      0.79      0.79      3349\n",
      "\n"
     ]
    }
   ],
   "source": [
    "print(classification_report(Y_test,Y_pred))"
   ]
  },
  {
   "cell_type": "code",
   "execution_count": 53,
   "metadata": {},
   "outputs": [
    {
     "data": {
      "text/plain": [
       "array([0.08657469, 0.03853922, 0.01465552, 0.01257902, 0.00045636,\n",
       "       0.08114434, 0.04264545, 0.00710422, 0.06206638, 0.07711522,\n",
       "       0.09497363, 0.35295102, 0.02029853, 0.06008285, 0.00625941,\n",
       "       0.04255414])"
      ]
     },
     "execution_count": 53,
     "metadata": {},
     "output_type": "execute_result"
    }
   ],
   "source": [
    "dt.feature_importances_     # most important is duration"
   ]
  },
  {
   "cell_type": "code",
   "execution_count": 54,
   "metadata": {},
   "outputs": [],
   "source": [
    "# make it in function "
   ]
  },
  {
   "cell_type": "code",
   "execution_count": 65,
   "metadata": {},
   "outputs": [],
   "source": [
    "def create_model(model):\n",
    "    model.fit(X_train,Y_train)\n",
    "    Y_pred = model.predict(X_test)\n",
    "    print(classification_report(Y_test,Y_pred))\n",
    "    return model"
   ]
  },
  {
   "cell_type": "code",
   "execution_count": 66,
   "metadata": {},
   "outputs": [
    {
     "name": "stdout",
     "output_type": "stream",
     "text": [
      "              precision    recall  f1-score   support\n",
      "\n",
      "           0       0.80      0.82      0.81      1760\n",
      "           1       0.79      0.78      0.78      1589\n",
      "\n",
      "    accuracy                           0.80      3349\n",
      "   macro avg       0.80      0.80      0.80      3349\n",
      "weighted avg       0.80      0.80      0.80      3349\n",
      "\n"
     ]
    },
    {
     "data": {
      "text/plain": [
       "LogisticRegression(C=1.0, class_weight=None, dual=False, fit_intercept=True,\n",
       "                   intercept_scaling=1, l1_ratio=None, max_iter=100,\n",
       "                   multi_class='warn', n_jobs=None, penalty='l2',\n",
       "                   random_state=None, solver='warn', tol=0.0001, verbose=0,\n",
       "                   warm_start=False)"
      ]
     },
     "execution_count": 66,
     "metadata": {},
     "output_type": "execute_result"
    }
   ],
   "source": [
    "lr = LogisticRegression()\n",
    "create_model(lr)"
   ]
  },
  {
   "cell_type": "code",
   "execution_count": 67,
   "metadata": {},
   "outputs": [
    {
     "name": "stdout",
     "output_type": "stream",
     "text": [
      "              precision    recall  f1-score   support\n",
      "\n",
      "           0       0.80      0.81      0.80      1760\n",
      "           1       0.78      0.77      0.78      1589\n",
      "\n",
      "    accuracy                           0.79      3349\n",
      "   macro avg       0.79      0.79      0.79      3349\n",
      "weighted avg       0.79      0.79      0.79      3349\n",
      "\n"
     ]
    },
    {
     "data": {
      "text/plain": [
       "DecisionTreeClassifier(class_weight=None, criterion='gini', max_depth=None,\n",
       "                       max_features=None, max_leaf_nodes=None,\n",
       "                       min_impurity_decrease=0.0, min_impurity_split=None,\n",
       "                       min_samples_leaf=1, min_samples_split=2,\n",
       "                       min_weight_fraction_leaf=0.0, presort=False,\n",
       "                       random_state=None, splitter='best')"
      ]
     },
     "execution_count": 67,
     "metadata": {},
     "output_type": "execute_result"
    }
   ],
   "source": [
    "dt = DecisionTreeClassifier()\n",
    "create_model(dt)"
   ]
  },
  {
   "cell_type": "code",
   "execution_count": 68,
   "metadata": {},
   "outputs": [
    {
     "name": "stdout",
     "output_type": "stream",
     "text": [
      "              precision    recall  f1-score   support\n",
      "\n",
      "           0       0.82      0.83      0.83      1760\n",
      "           1       0.81      0.80      0.80      1589\n",
      "\n",
      "    accuracy                           0.82      3349\n",
      "   macro avg       0.82      0.81      0.81      3349\n",
      "weighted avg       0.82      0.82      0.82      3349\n",
      "\n"
     ]
    },
    {
     "data": {
      "text/plain": [
       "DecisionTreeClassifier(class_weight=None, criterion='gini', max_depth=10,\n",
       "                       max_features=None, max_leaf_nodes=None,\n",
       "                       min_impurity_decrease=0.0, min_impurity_split=None,\n",
       "                       min_samples_leaf=1, min_samples_split=2,\n",
       "                       min_weight_fraction_leaf=0.0, presort=False,\n",
       "                       random_state=None, splitter='best')"
      ]
     },
     "execution_count": 68,
     "metadata": {},
     "output_type": "execute_result"
    }
   ],
   "source": [
    "# Prunning\n",
    "dt2 = DecisionTreeClassifier(max_depth=10)\n",
    "create_model(dt2)"
   ]
  },
  {
   "cell_type": "code",
   "execution_count": 69,
   "metadata": {},
   "outputs": [
    {
     "name": "stdout",
     "output_type": "stream",
     "text": [
      "              precision    recall  f1-score   support\n",
      "\n",
      "           0       0.83      0.83      0.83      1760\n",
      "           1       0.81      0.81      0.81      1589\n",
      "\n",
      "    accuracy                           0.82      3349\n",
      "   macro avg       0.82      0.82      0.82      3349\n",
      "weighted avg       0.82      0.82      0.82      3349\n",
      "\n"
     ]
    },
    {
     "data": {
      "text/plain": [
       "DecisionTreeClassifier(class_weight=None, criterion='gini', max_depth=8,\n",
       "                       max_features=None, max_leaf_nodes=None,\n",
       "                       min_impurity_decrease=0.0, min_impurity_split=None,\n",
       "                       min_samples_leaf=1, min_samples_split=2,\n",
       "                       min_weight_fraction_leaf=0.0, presort=False,\n",
       "                       random_state=None, splitter='best')"
      ]
     },
     "execution_count": 69,
     "metadata": {},
     "output_type": "execute_result"
    }
   ],
   "source": [
    "dt2 = DecisionTreeClassifier(max_depth=8)\n",
    "create_model(dt2)"
   ]
  },
  {
   "cell_type": "code",
   "execution_count": 79,
   "metadata": {},
   "outputs": [
    {
     "name": "stdout",
     "output_type": "stream",
     "text": [
      "              precision    recall  f1-score   support\n",
      "\n",
      "           0       0.87      0.78      0.82      1760\n",
      "           1       0.78      0.87      0.83      1589\n",
      "\n",
      "    accuracy                           0.83      3349\n",
      "   macro avg       0.83      0.83      0.83      3349\n",
      "weighted avg       0.83      0.83      0.83      3349\n",
      "\n"
     ]
    },
    {
     "data": {
      "text/plain": [
       "DecisionTreeClassifier(class_weight=None, criterion='gini', max_depth=None,\n",
       "                       max_features=None, max_leaf_nodes=None,\n",
       "                       min_impurity_decrease=0.0, min_impurity_split=None,\n",
       "                       min_samples_leaf=50, min_samples_split=2,\n",
       "                       min_weight_fraction_leaf=0.0, presort=False,\n",
       "                       random_state=None, splitter='best')"
      ]
     },
     "execution_count": 79,
     "metadata": {},
     "output_type": "execute_result"
    }
   ],
   "source": [
    "dt3 = DecisionTreeClassifier(min_samples_leaf=50)\n",
    "create_model(dt3)"
   ]
  },
  {
   "cell_type": "code",
   "execution_count": 80,
   "metadata": {},
   "outputs": [
    {
     "name": "stdout",
     "output_type": "stream",
     "text": [
      "              precision    recall  f1-score   support\n",
      "\n",
      "           0       0.84      0.82      0.83      1760\n",
      "           1       0.81      0.82      0.81      1589\n",
      "\n",
      "    accuracy                           0.82      3349\n",
      "   macro avg       0.82      0.82      0.82      3349\n",
      "weighted avg       0.82      0.82      0.82      3349\n",
      "\n"
     ]
    },
    {
     "data": {
      "text/plain": [
       "DecisionTreeClassifier(class_weight=None, criterion='entropy', max_depth=None,\n",
       "                       max_features=None, max_leaf_nodes=None,\n",
       "                       min_impurity_decrease=0.0, min_impurity_split=None,\n",
       "                       min_samples_leaf=50, min_samples_split=2,\n",
       "                       min_weight_fraction_leaf=0.0, presort=False,\n",
       "                       random_state=None, splitter='best')"
      ]
     },
     "execution_count": 80,
     "metadata": {},
     "output_type": "execute_result"
    }
   ],
   "source": [
    "# by using measure entropy\n",
    "dt4 = DecisionTreeClassifier(min_samples_leaf=50,criterion=\"entropy\")\n",
    "create_model(dt4)"
   ]
  },
  {
   "cell_type": "code",
   "execution_count": 81,
   "metadata": {},
   "outputs": [],
   "source": [
    "from sklearn import tree"
   ]
  },
  {
   "cell_type": "code",
   "execution_count": 82,
   "metadata": {},
   "outputs": [
    {
     "data": {
      "text/plain": [
       "[Text(149.22771226415097, 209.07692307692307, 'X[11] <= 206.5\\nentropy = 0.998\\nsamples = 7813\\nvalue = [4113, 3700]'),\n",
       " Text(53.40919811320755, 192.35076923076923, 'X[11] <= 88.5\\nentropy = 0.731\\nsamples = 3136\\nvalue = [2495, 641]'),\n",
       " Text(19.652830188679246, 175.62461538461537, 'X[11] <= 62.5\\nentropy = 0.247\\nsamples = 973\\nvalue = [933, 40]'),\n",
       " Text(11.230188679245284, 158.89846153846153, 'X[12] <= 2.5\\nentropy = 0.098\\nsamples = 551\\nvalue = [544, 7]'),\n",
       " Text(8.422641509433962, 142.1723076923077, 'X[11] <= 49.5\\nentropy = 0.167\\nsamples = 284\\nvalue = [277, 7]'),\n",
       " Text(5.615094339622642, 125.44615384615385, 'X[10] <= 5.5\\nentropy = 0.244\\nsamples = 173\\nvalue = [166, 7]'),\n",
       " Text(2.807547169811321, 108.72, 'entropy = 0.4\\nsamples = 63\\nvalue = [58, 5]'),\n",
       " Text(8.422641509433962, 108.72, 'X[0] <= 36.5\\nentropy = 0.131\\nsamples = 110\\nvalue = [108, 2]'),\n",
       " Text(5.615094339622642, 91.99384615384615, 'entropy = 0.242\\nsamples = 50\\nvalue = [48, 2]'),\n",
       " Text(11.230188679245284, 91.99384615384615, 'entropy = 0.0\\nsamples = 60\\nvalue = [60, 0]'),\n",
       " Text(11.230188679245284, 125.44615384615385, 'entropy = 0.0\\nsamples = 111\\nvalue = [111, 0]'),\n",
       " Text(14.037735849056606, 142.1723076923077, 'entropy = 0.0\\nsamples = 267\\nvalue = [267, 0]'),\n",
       " Text(28.075471698113212, 158.89846153846153, 'X[13] <= 62.0\\nentropy = 0.396\\nsamples = 422\\nvalue = [389, 33]'),\n",
       " Text(25.26792452830189, 142.1723076923077, 'X[9] <= 21.5\\nentropy = 0.302\\nsamples = 353\\nvalue = [334, 19]'),\n",
       " Text(22.460377358490568, 125.44615384615385, 'X[8] <= 1.5\\nentropy = 0.397\\nsamples = 242\\nvalue = [223, 19]'),\n",
       " Text(19.652830188679246, 108.72, 'X[9] <= 13.5\\nentropy = 0.512\\nsamples = 158\\nvalue = [140, 18]'),\n",
       " Text(16.845283018867924, 91.99384615384615, 'entropy = 0.679\\nsamples = 78\\nvalue = [64, 14]'),\n",
       " Text(22.460377358490568, 91.99384615384615, 'entropy = 0.286\\nsamples = 80\\nvalue = [76, 4]'),\n",
       " Text(25.26792452830189, 108.72, 'entropy = 0.093\\nsamples = 84\\nvalue = [83, 1]'),\n",
       " Text(28.075471698113212, 125.44615384615385, 'entropy = 0.0\\nsamples = 111\\nvalue = [111, 0]'),\n",
       " Text(30.88301886792453, 142.1723076923077, 'entropy = 0.728\\nsamples = 69\\nvalue = [55, 14]'),\n",
       " Text(87.16556603773586, 175.62461538461537, 'X[8] <= 1.5\\nentropy = 0.853\\nsamples = 2163\\nvalue = [1562, 601]'),\n",
       " Text(72.55754716981133, 158.89846153846153, 'X[10] <= 9.5\\nentropy = 0.931\\nsamples = 1684\\nvalue = [1101, 583]'),\n",
       " Text(60.1867924528302, 142.1723076923077, 'X[6] <= 0.5\\nentropy = 0.895\\nsamples = 1555\\nvalue = [1070, 485]'),\n",
       " Text(43.86792452830189, 125.44615384615385, 'X[13] <= 26.0\\nentropy = 0.97\\nsamples = 948\\nvalue = [570, 378]'),\n",
       " Text(30.88301886792453, 108.72, 'X[10] <= 0.5\\nentropy = 0.889\\nsamples = 711\\nvalue = [493, 218]'),\n",
       " Text(28.075471698113212, 91.99384615384615, 'entropy = 0.716\\nsamples = 71\\nvalue = [14, 57]'),\n",
       " Text(33.69056603773585, 91.99384615384615, 'X[10] <= 5.5\\nentropy = 0.814\\nsamples = 640\\nvalue = [479, 161]'),\n",
       " Text(24.566037735849058, 75.2676923076923, 'X[5] <= 521.5\\nentropy = 0.635\\nsamples = 474\\nvalue = [398, 76]'),\n",
       " Text(14.739622641509435, 58.541538461538465, 'X[0] <= 31.5\\nentropy = 0.414\\nsamples = 264\\nvalue = [242, 22]'),\n",
       " Text(11.932075471698115, 41.81538461538463, 'entropy = 0.684\\nsamples = 66\\nvalue = [54, 12]'),\n",
       " Text(17.547169811320757, 41.81538461538463, 'X[10] <= 2.5\\nentropy = 0.289\\nsamples = 198\\nvalue = [188, 10]'),\n",
       " Text(14.739622641509435, 25.089230769230767, 'X[5] <= 65.0\\nentropy = 0.131\\nsamples = 110\\nvalue = [108, 2]'),\n",
       " Text(11.932075471698115, 8.363076923076932, 'entropy = 0.0\\nsamples = 60\\nvalue = [60, 0]'),\n",
       " Text(17.547169811320757, 8.363076923076932, 'entropy = 0.242\\nsamples = 50\\nvalue = [48, 2]'),\n",
       " Text(20.35471698113208, 25.089230769230767, 'entropy = 0.439\\nsamples = 88\\nvalue = [80, 8]'),\n",
       " Text(34.39245283018868, 58.541538461538465, 'X[10] <= 1.5\\nentropy = 0.822\\nsamples = 210\\nvalue = [156, 54]'),\n",
       " Text(28.77735849056604, 41.81538461538463, 'X[11] <= 149.5\\nentropy = 0.592\\nsamples = 105\\nvalue = [90, 15]'),\n",
       " Text(25.96981132075472, 25.089230769230767, 'entropy = 0.225\\nsamples = 55\\nvalue = [53, 2]'),\n",
       " Text(31.584905660377363, 25.089230769230767, 'entropy = 0.827\\nsamples = 50\\nvalue = [37, 13]'),\n",
       " Text(40.007547169811325, 41.81538461538463, 'X[11] <= 137.0\\nentropy = 0.952\\nsamples = 105\\nvalue = [66, 39]'),\n",
       " Text(37.2, 25.089230769230767, 'entropy = 0.877\\nsamples = 54\\nvalue = [38, 16]'),\n",
       " Text(42.81509433962265, 25.089230769230767, 'entropy = 0.993\\nsamples = 51\\nvalue = [28, 23]'),\n",
       " Text(42.81509433962265, 75.2676923076923, 'X[10] <= 7.5\\nentropy = 1.0\\nsamples = 166\\nvalue = [81, 85]'),\n",
       " Text(40.007547169811325, 58.541538461538465, 'entropy = 0.816\\nsamples = 87\\nvalue = [22, 65]'),\n",
       " Text(45.62264150943397, 58.541538461538465, 'entropy = 0.816\\nsamples = 79\\nvalue = [59, 20]'),\n",
       " Text(56.85283018867925, 108.72, 'X[11] <= 162.0\\nentropy = 0.91\\nsamples = 237\\nvalue = [77, 160]'),\n",
       " Text(51.237735849056605, 91.99384615384615, 'X[15] <= 1.5\\nentropy = 0.997\\nsamples = 134\\nvalue = [63, 71]'),\n",
       " Text(48.43018867924529, 75.2676923076923, 'entropy = 0.968\\nsamples = 71\\nvalue = [43, 28]'),\n",
       " Text(54.04528301886793, 75.2676923076923, 'entropy = 0.902\\nsamples = 63\\nvalue = [20, 43]'),\n",
       " Text(62.46792452830189, 91.99384615384615, 'X[0] <= 39.0\\nentropy = 0.573\\nsamples = 103\\nvalue = [14, 89]'),\n",
       " Text(59.66037735849057, 75.2676923076923, 'entropy = 0.391\\nsamples = 52\\nvalue = [4, 48]'),\n",
       " Text(65.27547169811321, 75.2676923076923, 'entropy = 0.714\\nsamples = 51\\nvalue = [10, 41]'),\n",
       " Text(76.5056603773585, 125.44615384615385, 'X[10] <= 3.5\\nentropy = 0.672\\nsamples = 607\\nvalue = [500, 107]'),\n",
       " Text(70.89056603773585, 108.72, 'X[13] <= 0.0\\nentropy = 0.918\\nsamples = 177\\nvalue = [118, 59]'),\n",
       " Text(68.08301886792454, 91.99384615384615, 'entropy = 0.764\\nsamples = 90\\nvalue = [70, 20]'),\n",
       " Text(73.69811320754718, 91.99384615384615, 'entropy = 0.992\\nsamples = 87\\nvalue = [48, 39]'),\n",
       " Text(82.12075471698114, 108.72, 'X[12] <= 3.5\\nentropy = 0.505\\nsamples = 430\\nvalue = [382, 48]'),\n",
       " Text(79.31320754716982, 91.99384615384615, 'X[10] <= 7.5\\nentropy = 0.566\\nsamples = 353\\nvalue = [306, 47]'),\n",
       " Text(73.69811320754718, 75.2676923076923, 'X[9] <= 20.5\\nentropy = 0.751\\nsamples = 135\\nvalue = [106, 29]'),\n",
       " Text(70.89056603773585, 58.541538461538465, 'entropy = 0.895\\nsamples = 77\\nvalue = [53, 24]'),\n",
       " Text(76.5056603773585, 58.541538461538465, 'entropy = 0.424\\nsamples = 58\\nvalue = [53, 5]'),\n",
       " Text(84.92830188679245, 75.2676923076923, 'X[5] <= 933.0\\nentropy = 0.411\\nsamples = 218\\nvalue = [200, 18]'),\n",
       " Text(82.12075471698114, 58.541538461538465, 'X[0] <= 35.5\\nentropy = 0.193\\nsamples = 135\\nvalue = [131, 4]'),\n",
       " Text(79.31320754716982, 41.81538461538463, 'entropy = 0.349\\nsamples = 61\\nvalue = [57, 4]'),\n",
       " Text(84.92830188679245, 41.81538461538463, 'entropy = 0.0\\nsamples = 74\\nvalue = [74, 0]'),\n",
       " Text(87.73584905660378, 58.541538461538465, 'entropy = 0.655\\nsamples = 83\\nvalue = [69, 14]'),\n",
       " Text(84.92830188679245, 91.99384615384615, 'entropy = 0.1\\nsamples = 77\\nvalue = [76, 1]'),\n",
       " Text(84.92830188679245, 142.1723076923077, 'X[9] <= 21.5\\nentropy = 0.796\\nsamples = 129\\nvalue = [31, 98]'),\n",
       " Text(82.12075471698114, 125.44615384615385, 'entropy = 0.909\\nsamples = 77\\nvalue = [25, 52]'),\n",
       " Text(87.73584905660378, 125.44615384615385, 'entropy = 0.516\\nsamples = 52\\nvalue = [6, 46]'),\n",
       " Text(101.77358490566039, 158.89846153846153, 'X[12] <= 1.5\\nentropy = 0.231\\nsamples = 479\\nvalue = [461, 18]'),\n",
       " Text(96.15849056603774, 142.1723076923077, 'X[5] <= 436.0\\nentropy = 0.383\\nsamples = 201\\nvalue = [186, 15]'),\n",
       " Text(93.35094339622643, 125.44615384615385, 'X[11] <= 131.0\\nentropy = 0.189\\nsamples = 104\\nvalue = [101, 3]'),\n",
       " Text(90.5433962264151, 108.72, 'entropy = 0.242\\nsamples = 50\\nvalue = [48, 2]'),\n",
       " Text(96.15849056603774, 108.72, 'entropy = 0.133\\nsamples = 54\\nvalue = [53, 1]'),\n",
       " Text(98.96603773584907, 125.44615384615385, 'entropy = 0.54\\nsamples = 97\\nvalue = [85, 12]'),\n",
       " Text(107.38867924528303, 142.1723076923077, 'X[1] <= 1.5\\nentropy = 0.086\\nsamples = 278\\nvalue = [275, 3]'),\n",
       " Text(104.58113207547171, 125.44615384615385, 'X[11] <= 150.5\\nentropy = 0.178\\nsamples = 112\\nvalue = [109, 3]'),\n",
       " Text(101.77358490566039, 108.72, 'entropy = 0.29\\nsamples = 59\\nvalue = [56, 3]'),\n",
       " Text(107.38867924528303, 108.72, 'entropy = 0.0\\nsamples = 53\\nvalue = [53, 0]'),\n",
       " Text(110.19622641509434, 125.44615384615385, 'entropy = 0.0\\nsamples = 166\\nvalue = [166, 0]'),\n",
       " Text(245.04622641509437, 192.35076923076923, 'X[11] <= 472.5\\nentropy = 0.93\\nsamples = 4677\\nvalue = [1618, 3059]'),\n",
       " Text(207.58301886792455, 175.62461538461537, 'X[8] <= 1.5\\nentropy = 0.998\\nsamples = 2625\\nvalue = [1247, 1378]'),\n",
       " Text(171.61132075471698, 158.89846153846153, 'X[6] <= 0.5\\nentropy = 0.964\\nsamples = 2198\\nvalue = [853, 1345]'),\n",
       " Text(138.27169811320755, 142.1723076923077, 'X[14] <= 0.5\\nentropy = 0.846\\nsamples = 1386\\nvalue = [379, 1007]'),\n",
       " Text(122.8301886792453, 125.44615384615385, 'X[0] <= 60.5\\nentropy = 0.955\\nsamples = 857\\nvalue = [322, 535]'),\n",
       " Text(113.00377358490567, 108.72, 'X[10] <= 5.5\\nentropy = 0.981\\nsamples = 755\\nvalue = [317, 438]'),\n",
       " Text(101.77358490566039, 91.99384615384615, 'X[10] <= 0.5\\nentropy = 0.999\\nsamples = 500\\nvalue = [258, 242]'),\n",
       " Text(98.96603773584907, 75.2676923076923, 'entropy = 0.544\\nsamples = 88\\nvalue = [11, 77]'),\n",
       " Text(104.58113207547171, 75.2676923076923, 'X[5] <= 709.5\\nentropy = 0.971\\nsamples = 412\\nvalue = [247, 165]'),\n",
       " Text(98.96603773584907, 58.541538461538465, 'X[9] <= 19.5\\nentropy = 0.875\\nsamples = 254\\nvalue = [179, 75]'),\n",
       " Text(96.15849056603774, 41.81538461538463, 'X[1] <= 3.0\\nentropy = 0.956\\nsamples = 159\\nvalue = [99, 60]'),\n",
       " Text(93.35094339622643, 25.089230769230767, 'entropy = 0.665\\nsamples = 52\\nvalue = [43, 9]'),\n",
       " Text(98.96603773584907, 25.089230769230767, 'X[11] <= 299.5\\nentropy = 0.998\\nsamples = 107\\nvalue = [56, 51]'),\n",
       " Text(96.15849056603774, 8.363076923076932, 'entropy = 0.964\\nsamples = 54\\nvalue = [33, 21]'),\n",
       " Text(101.77358490566039, 8.363076923076932, 'entropy = 0.987\\nsamples = 53\\nvalue = [23, 30]'),\n",
       " Text(101.77358490566039, 41.81538461538463, 'entropy = 0.629\\nsamples = 95\\nvalue = [80, 15]'),\n",
       " Text(110.19622641509434, 58.541538461538465, 'X[11] <= 328.5\\nentropy = 0.986\\nsamples = 158\\nvalue = [68, 90]'),\n",
       " Text(107.38867924528303, 41.81538461538463, 'entropy = 0.996\\nsamples = 99\\nvalue = [53, 46]'),\n",
       " Text(113.00377358490567, 41.81538461538463, 'entropy = 0.818\\nsamples = 59\\nvalue = [15, 44]'),\n",
       " Text(124.23396226415096, 91.99384615384615, 'X[10] <= 7.5\\nentropy = 0.78\\nsamples = 255\\nvalue = [59, 196]'),\n",
       " Text(118.61886792452832, 75.2676923076923, 'X[5] <= 1088.0\\nentropy = 0.436\\nsamples = 100\\nvalue = [9, 91]'),\n",
       " Text(115.81132075471699, 58.541538461538465, 'entropy = 0.402\\nsamples = 50\\nvalue = [4, 46]'),\n",
       " Text(121.42641509433963, 58.541538461538465, 'entropy = 0.469\\nsamples = 50\\nvalue = [5, 45]'),\n",
       " Text(129.8490566037736, 75.2676923076923, 'X[10] <= 9.5\\nentropy = 0.907\\nsamples = 155\\nvalue = [50, 105]'),\n",
       " Text(127.04150943396228, 58.541538461538465, 'entropy = 0.984\\nsamples = 94\\nvalue = [40, 54]'),\n",
       " Text(132.65660377358492, 58.541538461538465, 'entropy = 0.644\\nsamples = 61\\nvalue = [10, 51]'),\n",
       " Text(132.65660377358492, 108.72, 'X[11] <= 311.0\\nentropy = 0.282\\nsamples = 102\\nvalue = [5, 97]'),\n",
       " Text(129.8490566037736, 91.99384615384615, 'entropy = 0.137\\nsamples = 52\\nvalue = [1, 51]'),\n",
       " Text(135.46415094339625, 91.99384615384615, 'entropy = 0.402\\nsamples = 50\\nvalue = [4, 46]'),\n",
       " Text(153.71320754716982, 125.44615384615385, 'X[15] <= 1.5\\nentropy = 0.493\\nsamples = 529\\nvalue = [57, 472]'),\n",
       " Text(143.8867924528302, 108.72, 'X[1] <= 2.5\\nentropy = 0.736\\nsamples = 232\\nvalue = [48, 184]'),\n",
       " Text(141.07924528301888, 91.99384615384615, 'entropy = 0.953\\nsamples = 51\\nvalue = [19, 32]'),\n",
       " Text(146.69433962264154, 91.99384615384615, 'X[13] <= 160.5\\nentropy = 0.635\\nsamples = 181\\nvalue = [29, 152]'),\n",
       " Text(143.8867924528302, 75.2676923076923, 'entropy = 0.764\\nsamples = 81\\nvalue = [18, 63]'),\n",
       " Text(149.50188679245284, 75.2676923076923, 'X[5] <= 1016.0\\nentropy = 0.5\\nsamples = 100\\nvalue = [11, 89]'),\n",
       " Text(146.69433962264154, 58.541538461538465, 'entropy = 0.634\\nsamples = 50\\nvalue = [8, 42]'),\n",
       " Text(152.30943396226417, 58.541538461538465, 'entropy = 0.327\\nsamples = 50\\nvalue = [3, 47]'),\n",
       " Text(163.53962264150945, 108.72, 'X[11] <= 281.5\\nentropy = 0.196\\nsamples = 297\\nvalue = [9, 288]'),\n",
       " Text(157.9245283018868, 91.99384615384615, 'X[13] <= 102.5\\nentropy = 0.303\\nsamples = 130\\nvalue = [7, 123]'),\n",
       " Text(155.1169811320755, 75.2676923076923, 'entropy = 0.429\\nsamples = 57\\nvalue = [5, 52]'),\n",
       " Text(160.73207547169812, 75.2676923076923, 'entropy = 0.181\\nsamples = 73\\nvalue = [2, 71]'),\n",
       " Text(169.15471698113208, 91.99384615384615, 'X[0] <= 55.5\\nentropy = 0.094\\nsamples = 167\\nvalue = [2, 165]'),\n",
       " Text(166.34716981132078, 75.2676923076923, 'entropy = 0.0\\nsamples = 115\\nvalue = [0, 115]'),\n",
       " Text(171.9622641509434, 75.2676923076923, 'entropy = 0.235\\nsamples = 52\\nvalue = [2, 50]'),\n",
       " Text(204.95094339622642, 142.1723076923077, 'X[13] <= 1.5\\nentropy = 0.98\\nsamples = 812\\nvalue = [474, 338]'),\n",
       " Text(193.0188679245283, 125.44615384615385, 'X[11] <= 369.5\\nentropy = 0.879\\nsamples = 470\\nvalue = [330, 140]'),\n",
       " Text(186.00000000000003, 108.72, 'X[3] <= 1.5\\nentropy = 0.777\\nsamples = 349\\nvalue = [269, 80]'),\n",
       " Text(180.38490566037737, 91.99384615384615, 'X[1] <= 8.0\\nentropy = 0.678\\nsamples = 229\\nvalue = [188, 41]'),\n",
       " Text(177.57735849056604, 75.2676923076923, 'X[5] <= 354.5\\nentropy = 0.565\\nsamples = 173\\nvalue = [150, 23]'),\n",
       " Text(174.76981132075474, 58.541538461538465, 'entropy = 0.417\\nsamples = 83\\nvalue = [76, 7]'),\n",
       " Text(180.38490566037737, 58.541538461538465, 'entropy = 0.675\\nsamples = 90\\nvalue = [74, 16]'),\n",
       " Text(183.1924528301887, 75.2676923076923, 'entropy = 0.906\\nsamples = 56\\nvalue = [38, 18]'),\n",
       " Text(191.61509433962266, 91.99384615384615, 'X[5] <= 363.0\\nentropy = 0.91\\nsamples = 120\\nvalue = [81, 39]'),\n",
       " Text(188.80754716981133, 75.2676923076923, 'entropy = 0.811\\nsamples = 56\\nvalue = [42, 14]'),\n",
       " Text(194.422641509434, 75.2676923076923, 'entropy = 0.965\\nsamples = 64\\nvalue = [39, 25]'),\n",
       " Text(200.03773584905662, 108.72, 'X[1] <= 3.5\\nentropy = 1.0\\nsamples = 121\\nvalue = [61, 60]'),\n",
       " Text(197.2301886792453, 91.99384615384615, 'entropy = 0.958\\nsamples = 50\\nvalue = [31, 19]'),\n",
       " Text(202.84528301886795, 91.99384615384615, 'entropy = 0.983\\nsamples = 71\\nvalue = [30, 41]'),\n",
       " Text(216.88301886792456, 125.44615384615385, 'X[15] <= 1.5\\nentropy = 0.982\\nsamples = 342\\nvalue = [144, 198]'),\n",
       " Text(211.2679245283019, 108.72, 'X[5] <= 975.0\\nentropy = 0.99\\nsamples = 234\\nvalue = [131, 103]'),\n",
       " Text(208.46037735849058, 91.99384615384615, 'X[11] <= 286.5\\nentropy = 0.92\\nsamples = 152\\nvalue = [101, 51]'),\n",
       " Text(205.65283018867927, 75.2676923076923, 'entropy = 0.722\\nsamples = 70\\nvalue = [56, 14]'),\n",
       " Text(211.2679245283019, 75.2676923076923, 'entropy = 0.993\\nsamples = 82\\nvalue = [45, 37]'),\n",
       " Text(214.07547169811323, 91.99384615384615, 'entropy = 0.947\\nsamples = 82\\nvalue = [30, 52]'),\n",
       " Text(222.4981132075472, 108.72, 'X[11] <= 301.5\\nentropy = 0.53\\nsamples = 108\\nvalue = [13, 95]'),\n",
       " Text(219.69056603773586, 91.99384615384615, 'entropy = 0.629\\nsamples = 57\\nvalue = [9, 48]'),\n",
       " Text(225.30566037735852, 91.99384615384615, 'entropy = 0.397\\nsamples = 51\\nvalue = [4, 47]'),\n",
       " Text(243.5547169811321, 158.89846153846153, 'X[11] <= 367.0\\nentropy = 0.393\\nsamples = 427\\nvalue = [394, 33]'),\n",
       " Text(236.5358490566038, 142.1723076923077, 'X[5] <= 861.0\\nentropy = 0.243\\nsamples = 323\\nvalue = [310, 13]'),\n",
       " Text(230.92075471698115, 125.44615384615385, 'X[10] <= 7.5\\nentropy = 0.11\\nsamples = 206\\nvalue = [203, 3]'),\n",
       " Text(228.11320754716982, 108.72, 'entropy = 0.31\\nsamples = 54\\nvalue = [51, 3]'),\n",
       " Text(233.72830188679248, 108.72, 'entropy = 0.0\\nsamples = 152\\nvalue = [152, 0]'),\n",
       " Text(242.15094339622644, 125.44615384615385, 'X[12] <= 1.5\\nentropy = 0.421\\nsamples = 117\\nvalue = [107, 10]'),\n",
       " Text(239.3433962264151, 108.72, 'entropy = 0.605\\nsamples = 54\\nvalue = [46, 8]'),\n",
       " Text(244.95849056603777, 108.72, 'entropy = 0.203\\nsamples = 63\\nvalue = [61, 2]'),\n",
       " Text(250.5735849056604, 142.1723076923077, 'X[9] <= 14.5\\nentropy = 0.706\\nsamples = 104\\nvalue = [84, 20]'),\n",
       " Text(247.76603773584907, 125.44615384615385, 'entropy = 0.819\\nsamples = 51\\nvalue = [38, 13]'),\n",
       " Text(253.38113207547173, 125.44615384615385, 'entropy = 0.563\\nsamples = 53\\nvalue = [46, 7]'),\n",
       " Text(282.50943396226415, 175.62461538461537, 'X[11] <= 651.5\\nentropy = 0.682\\nsamples = 2052\\nvalue = [371, 1681]'),\n",
       " Text(267.41886792452834, 158.89846153846153, 'X[8] <= 1.5\\nentropy = 0.829\\nsamples = 768\\nvalue = [201, 567]'),\n",
       " Text(261.8037735849057, 142.1723076923077, 'X[7] <= 0.5\\nentropy = 0.762\\nsamples = 624\\nvalue = [138, 486]'),\n",
       " Text(258.9962264150944, 125.44615384615385, 'X[5] <= 35.5\\nentropy = 0.718\\nsamples = 555\\nvalue = [110, 445]'),\n",
       " Text(256.188679245283, 108.72, 'entropy = 0.899\\nsamples = 92\\nvalue = [29, 63]'),\n",
       " Text(261.8037735849057, 108.72, 'X[14] <= 2.5\\nentropy = 0.669\\nsamples = 463\\nvalue = [81, 382]'),\n",
       " Text(258.9962264150944, 91.99384615384615, 'X[6] <= 0.5\\nentropy = 0.709\\nsamples = 403\\nvalue = [78, 325]'),\n",
       " Text(251.97735849056608, 75.2676923076923, 'X[9] <= 13.5\\nentropy = 0.639\\nsamples = 241\\nvalue = [39, 202]'),\n",
       " Text(246.36226415094342, 58.541538461538465, 'X[11] <= 533.5\\nentropy = 0.519\\nsamples = 103\\nvalue = [12, 91]'),\n",
       " Text(243.5547169811321, 41.81538461538463, 'entropy = 0.634\\nsamples = 50\\nvalue = [8, 42]'),\n",
       " Text(249.16981132075475, 41.81538461538463, 'entropy = 0.386\\nsamples = 53\\nvalue = [4, 49]'),\n",
       " Text(257.5924528301887, 58.541538461538465, 'X[0] <= 45.5\\nentropy = 0.713\\nsamples = 138\\nvalue = [27, 111]'),\n",
       " Text(254.78490566037738, 41.81538461538463, 'entropy = 0.592\\nsamples = 84\\nvalue = [12, 72]'),\n",
       " Text(260.40000000000003, 41.81538461538463, 'entropy = 0.852\\nsamples = 54\\nvalue = [15, 39]'),\n",
       " Text(266.0150943396227, 75.2676923076923, 'X[0] <= 33.5\\nentropy = 0.796\\nsamples = 162\\nvalue = [39, 123]'),\n",
       " Text(263.20754716981133, 58.541538461538465, 'entropy = 0.662\\nsamples = 64\\nvalue = [11, 53]'),\n",
       " Text(268.822641509434, 58.541538461538465, 'entropy = 0.863\\nsamples = 98\\nvalue = [28, 70]'),\n",
       " Text(264.611320754717, 91.99384615384615, 'entropy = 0.286\\nsamples = 60\\nvalue = [3, 57]'),\n",
       " Text(264.611320754717, 125.44615384615385, 'entropy = 0.974\\nsamples = 69\\nvalue = [28, 41]'),\n",
       " Text(273.03396226415094, 142.1723076923077, 'X[10] <= 7.5\\nentropy = 0.989\\nsamples = 144\\nvalue = [63, 81]'),\n",
       " Text(270.22641509433964, 125.44615384615385, 'entropy = 0.896\\nsamples = 64\\nvalue = [20, 44]'),\n",
       " Text(275.8415094339623, 125.44615384615385, 'entropy = 0.996\\nsamples = 80\\nvalue = [43, 37]'),\n",
       " Text(297.6, 158.89846153846153, 'X[11] <= 794.5\\nentropy = 0.564\\nsamples = 1284\\nvalue = [170, 1114]'),\n",
       " Text(287.07169811320756, 142.1723076923077, 'X[0] <= 32.5\\nentropy = 0.67\\nsamples = 416\\nvalue = [73, 343]'),\n",
       " Text(281.45660377358496, 125.44615384615385, 'X[9] <= 19.5\\nentropy = 0.495\\nsamples = 120\\nvalue = [13, 107]'),\n",
       " Text(278.6490566037736, 108.72, 'entropy = 0.608\\nsamples = 67\\nvalue = [10, 57]'),\n",
       " Text(284.26415094339626, 108.72, 'entropy = 0.314\\nsamples = 53\\nvalue = [3, 50]'),\n",
       " Text(292.6867924528302, 125.44615384615385, 'X[14] <= 0.5\\nentropy = 0.727\\nsamples = 296\\nvalue = [60, 236]'),\n",
       " Text(289.8792452830189, 108.72, 'X[11] <= 752.0\\nentropy = 0.794\\nsamples = 213\\nvalue = [51, 162]'),\n",
       " Text(287.07169811320756, 91.99384615384615, 'X[1] <= 4.5\\nentropy = 0.732\\nsamples = 161\\nvalue = [33, 128]'),\n",
       " Text(284.26415094339626, 75.2676923076923, 'entropy = 0.831\\nsamples = 95\\nvalue = [25, 70]'),\n",
       " Text(289.8792452830189, 75.2676923076923, 'entropy = 0.533\\nsamples = 66\\nvalue = [8, 58]'),\n",
       " Text(292.6867924528302, 91.99384615384615, 'entropy = 0.931\\nsamples = 52\\nvalue = [18, 34]'),\n",
       " Text(295.4943396226415, 108.72, 'entropy = 0.495\\nsamples = 83\\nvalue = [9, 74]'),\n",
       " Text(308.1283018867925, 142.1723076923077, 'X[5] <= -0.5\\nentropy = 0.505\\nsamples = 868\\nvalue = [97, 771]'),\n",
       " Text(305.3207547169812, 125.44615384615385, 'entropy = 0.27\\nsamples = 65\\nvalue = [3, 62]'),\n",
       " Text(310.9358490566038, 125.44615384615385, 'X[5] <= 694.5\\nentropy = 0.521\\nsamples = 803\\nvalue = [94, 709]'),\n",
       " Text(301.1094339622642, 108.72, 'X[5] <= 516.0\\nentropy = 0.584\\nsamples = 400\\nvalue = [56, 344]'),\n",
       " Text(298.3018867924529, 91.99384615384615, 'X[2] <= 0.5\\nentropy = 0.528\\nsamples = 335\\nvalue = [40, 295]'),\n",
       " Text(295.4943396226415, 75.2676923076923, 'entropy = 0.239\\nsamples = 51\\nvalue = [2, 49]'),\n",
       " Text(301.1094339622642, 75.2676923076923, 'X[8] <= 1.5\\nentropy = 0.568\\nsamples = 284\\nvalue = [38, 246]'),\n",
       " Text(298.3018867924529, 58.541538461538465, 'X[9] <= 10.5\\nentropy = 0.5\\nsamples = 218\\nvalue = [24, 194]'),\n",
       " Text(295.4943396226415, 41.81538461538463, 'entropy = 0.211\\nsamples = 60\\nvalue = [2, 58]'),\n",
       " Text(301.1094339622642, 41.81538461538463, 'X[5] <= 226.0\\nentropy = 0.582\\nsamples = 158\\nvalue = [22, 136]'),\n",
       " Text(298.3018867924529, 25.089230769230767, 'entropy = 0.461\\nsamples = 82\\nvalue = [8, 74]'),\n",
       " Text(303.9169811320755, 25.089230769230767, 'entropy = 0.689\\nsamples = 76\\nvalue = [14, 62]'),\n",
       " Text(303.9169811320755, 58.541538461538465, 'entropy = 0.746\\nsamples = 66\\nvalue = [14, 52]'),\n",
       " Text(303.9169811320755, 91.99384615384615, 'entropy = 0.805\\nsamples = 65\\nvalue = [16, 49]'),\n",
       " Text(320.76226415094345, 108.72, 'X[11] <= 1018.5\\nentropy = 0.451\\nsamples = 403\\nvalue = [38, 365]'),\n",
       " Text(315.1471698113208, 91.99384615384615, 'X[0] <= 49.5\\nentropy = 0.3\\nsamples = 188\\nvalue = [10, 178]'),\n",
       " Text(312.33962264150944, 75.2676923076923, 'X[6] <= 0.5\\nentropy = 0.229\\nsamples = 135\\nvalue = [5, 130]'),\n",
       " Text(309.53207547169814, 58.541538461538465, 'entropy = 0.0\\nsamples = 57\\nvalue = [0, 57]'),\n",
       " Text(315.1471698113208, 58.541538461538465, 'entropy = 0.344\\nsamples = 78\\nvalue = [5, 73]'),\n",
       " Text(317.9547169811321, 75.2676923076923, 'entropy = 0.451\\nsamples = 53\\nvalue = [5, 48]'),\n",
       " Text(326.37735849056605, 91.99384615384615, 'X[11] <= 1209.5\\nentropy = 0.558\\nsamples = 215\\nvalue = [28, 187]'),\n",
       " Text(323.56981132075475, 75.2676923076923, 'entropy = 0.722\\nsamples = 95\\nvalue = [19, 76]'),\n",
       " Text(329.1849056603774, 75.2676923076923, 'X[5] <= 2082.0\\nentropy = 0.384\\nsamples = 120\\nvalue = [9, 111]'),\n",
       " Text(326.37735849056605, 58.541538461538465, 'entropy = 0.255\\nsamples = 70\\nvalue = [3, 67]'),\n",
       " Text(331.9924528301887, 58.541538461538465, 'entropy = 0.529\\nsamples = 50\\nvalue = [6, 44]')]"
      ]
     },
     "execution_count": 82,
     "metadata": {},
     "output_type": "execute_result"
    },
    {
     "data": {
      "image/png": "[encoded data removed]",
      "text/plain": [
       "<Figure size 432x288 with 1 Axes>"
      ]
     },
     "metadata": {
      "needs_background": "light"
     },
     "output_type": "display_data"
    }
   ],
   "source": [
    "tree.plot_tree(dt2)"
   ]
  },
  {
   "cell_type": "markdown",
   "metadata": {},
   "source": [
    "# Cross Validation"
   ]
  },
  {
   "cell_type": "code",
   "execution_count": 83,
   "metadata": {},
   "outputs": [],
   "source": [
    "from sklearn.model_selection import cross_val_score"
   ]
  },
  {
   "cell_type": "code",
   "execution_count": 86,
   "metadata": {},
   "outputs": [],
   "source": [
    "l1_cross = cross_val_score(dt3,X,Y,cv=4)\n"
   ]
  },
  {
   "cell_type": "code",
   "execution_count": 87,
   "metadata": {},
   "outputs": [
    {
     "data": {
      "text/plain": [
       "array([0.75250716, 0.76523297, 0.80967742, 0.82258065])"
      ]
     },
     "execution_count": 87,
     "metadata": {},
     "output_type": "execute_result"
    }
   ],
   "source": [
    "l1_cross"
   ]
  },
  {
   "cell_type": "code",
   "execution_count": 89,
   "metadata": {},
   "outputs": [],
   "source": [
    "l2_cross = cross_val_score(dt4,X,Y,cv=4)    # devide the data in 4 parts\n"
   ]
  },
  {
   "cell_type": "code",
   "execution_count": 90,
   "metadata": {},
   "outputs": [
    {
     "data": {
      "text/plain": [
       "array([0.74355301, 0.76164875, 0.81935484, 0.80967742])"
      ]
     },
     "execution_count": 90,
     "metadata": {},
     "output_type": "execute_result"
    }
   ],
   "source": [
    "l2_cross"
   ]
  },
  {
   "cell_type": "code",
   "execution_count": 91,
   "metadata": {},
   "outputs": [
    {
     "data": {
      "text/plain": [
       "0.7874995506875764"
      ]
     },
     "execution_count": 91,
     "metadata": {},
     "output_type": "execute_result"
    }
   ],
   "source": [
    "np.mean(l1_cross)     # using gini index measure that model is good than dt4"
   ]
  },
  {
   "cell_type": "code",
   "execution_count": 92,
   "metadata": {},
   "outputs": [
    {
     "data": {
      "text/plain": [
       "0.7835585030450545"
      ]
     },
     "execution_count": 92,
     "metadata": {},
     "output_type": "execute_result"
    }
   ],
   "source": [
    "np.mean(l2_cross)"
   ]
  },
  {
   "cell_type": "code",
   "execution_count": 94,
   "metadata": {},
   "outputs": [],
   "source": [
    "from sklearn.svm import LinearSVC\n",
    "from sklearn.svm import SVC"
   ]
  },
  {
   "cell_type": "code",
   "execution_count": 95,
   "metadata": {},
   "outputs": [
    {
     "name": "stdout",
     "output_type": "stream",
     "text": [
      "              precision    recall  f1-score   support\n",
      "\n",
      "           0       0.66      0.80      0.72      1760\n",
      "           1       0.71      0.54      0.62      1589\n",
      "\n",
      "    accuracy                           0.68      3349\n",
      "   macro avg       0.69      0.67      0.67      3349\n",
      "weighted avg       0.68      0.68      0.67      3349\n",
      "\n"
     ]
    },
    {
     "data": {
      "text/plain": [
       "LinearSVC(C=1.0, class_weight=None, dual=True, fit_intercept=True,\n",
       "          intercept_scaling=1, loss='squared_hinge', max_iter=1000,\n",
       "          multi_class='ovr', penalty='l2', random_state=None, tol=0.0001,\n",
       "          verbose=0)"
      ]
     },
     "execution_count": 95,
     "metadata": {},
     "output_type": "execute_result"
    }
   ],
   "source": [
    "lsvc = LinearSVC()\n",
    "create_model(lsvc)"
   ]
  },
  {
   "cell_type": "code",
   "execution_count": null,
   "metadata": {},
   "outputs": [],
   "source": [
    "lsvc2 = LinearSVC(C=0.2)      # add error ie 0\n",
    ".20\n",
    "create_model(lsvc2)"
   ]
  },
  {
   "cell_type": "code",
   "execution_count": 96,
   "metadata": {},
   "outputs": [
    {
     "name": "stdout",
     "output_type": "stream",
     "text": [
      "              precision    recall  f1-score   support\n",
      "\n",
      "           0       0.53      1.00      0.69      1760\n",
      "           1       0.43      0.00      0.00      1589\n",
      "\n",
      "    accuracy                           0.53      3349\n",
      "   macro avg       0.48      0.50      0.35      3349\n",
      "weighted avg       0.48      0.53      0.36      3349\n",
      "\n"
     ]
    },
    {
     "data": {
      "text/plain": [
       "SVC(C=1.0, cache_size=200, class_weight=None, coef0=0.0,\n",
       "    decision_function_shape='ovr', degree=3, gamma='auto_deprecated',\n",
       "    kernel='rbf', max_iter=-1, probability=False, random_state=None,\n",
       "    shrinking=True, tol=0.001, verbose=False)"
      ]
     },
     "execution_count": 96,
     "metadata": {},
     "output_type": "execute_result"
    }
   ],
   "source": [
    "rbf = SVC()\n",
    "create_model(rbf)   # radial bias kernal function"
   ]
  },
  {
   "cell_type": "code",
   "execution_count": null,
   "metadata": {},
   "outputs": [],
   "source": [
    "poly = SVC(kernel='poly')\n",
    "create_model(poly)"
   ]
  },
  {
   "cell_type": "code",
   "execution_count": null,
   "metadata": {},
   "outputs": [],
   "source": []
  }
 ],
 "metadata": {
  "kernelspec": {
   "display_name": "Python 3",
   "language": "python",
   "name": "python3"
  },
  "language_info": {
   "codemirror_mode": {
    "name": "ipython",
    "version": 3
   },
   "file_extension": ".py",
   "mimetype": "text/x-python",
   "name": "python",
   "nbconvert_exporter": "python",
   "pygments_lexer": "ipython3",
   "version": "3.7.4"
  }
 },
 "nbformat": 4,
 "nbformat_minor": 2
}
